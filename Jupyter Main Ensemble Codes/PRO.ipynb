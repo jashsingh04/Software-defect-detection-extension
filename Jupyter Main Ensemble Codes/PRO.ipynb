{
 "cells": [
  {
   "cell_type": "markdown",
   "id": "f9eb3043-70ea-43de-b9dc-80eeff105fe6",
   "metadata": {
    "id": "f9eb3043-70ea-43de-b9dc-80eeff105fe6"
   },
   "source": [
    "## imports required for this testing"
   ]
  },
  {
   "cell_type": "code",
   "execution_count": 20,
   "id": "705INCtjbZz_",
   "metadata": {
    "id": "705INCtjbZz_"
   },
   "outputs": [],
   "source": []
  },
  {
   "cell_type": "code",
   "execution_count": 90,
   "id": "1bc45861-5943-4f4b-bc33-8d47554bc7e7",
   "metadata": {
    "id": "1bc45861-5943-4f4b-bc33-8d47554bc7e7",
    "tags": []
   },
   "outputs": [],
   "source": [
    "import pandas as pd\n",
    "import numpy as np\n",
    "import seaborn as sns\n",
    "from sklearn.metrics import accuracy_score, precision_score, recall_score, f1_score, roc_auc_score, classification_report\n",
    "from sklearn.model_selection import train_test_split\n",
    "from sklearn.linear_model import LogisticRegression\n",
    "from sklearn.neighbors import KNeighborsClassifier\n",
    "from sklearn.ensemble import AdaBoostClassifier\n",
    "from sklearn.ensemble import RandomForestClassifier\n",
    "from sklearn.naive_bayes import GaussianNB\n",
    "from sklearn.neural_network import MLPClassifier\n",
    "import random\n",
    "from xgboost import XGBClassifier\n",
    "from scipy.stats import gamma\n",
    "from sklearn.decomposition import PCA\n",
    "from sklearn.preprocessing import StandardScaler\n",
    "import matplotlib.pyplot as plt\n",
    "from tensorflow.keras.models import Sequential\n",
    "from tensorflow.keras.layers import Conv2D, MaxPooling2D, Flatten, Dense, Dropout, Reshape\n",
    "from tensorflow.keras.utils import to_categorical"
   ]
  },
  {
   "cell_type": "markdown",
   "id": "bd961769-b272-47a5-b7ed-6247aa7d306f",
   "metadata": {
    "id": "bd961769-b272-47a5-b7ed-6247aa7d306f"
   },
   "source": [
    "## Importing data and processing it"
   ]
  },
  {
   "cell_type": "code",
   "execution_count": 93,
   "id": "c967919f-564e-42d1-9140-9d451cc6c5b9",
   "metadata": {
    "colab": {
     "base_uri": "https://localhost:8080/",
     "height": 255
    },
    "id": "c967919f-564e-42d1-9140-9d451cc6c5b9",
    "outputId": "b28b85fa-1eee-40fc-bd48-8ede9a9f8eed",
    "tags": []
   },
   "outputs": [
    {
     "data": {
      "text/html": [
       "<div>\n",
       "<style scoped>\n",
       "    .dataframe tbody tr th:only-of-type {\n",
       "        vertical-align: middle;\n",
       "    }\n",
       "\n",
       "    .dataframe tbody tr th {\n",
       "        vertical-align: top;\n",
       "    }\n",
       "\n",
       "    .dataframe thead th {\n",
       "        text-align: right;\n",
       "    }\n",
       "</style>\n",
       "<table border=\"1\" class=\"dataframe\">\n",
       "  <thead>\n",
       "    <tr style=\"text-align: right;\">\n",
       "      <th></th>\n",
       "      <th>loc</th>\n",
       "      <th>v(g)</th>\n",
       "      <th>ev(g)</th>\n",
       "      <th>iv(g)</th>\n",
       "      <th>n</th>\n",
       "      <th>v</th>\n",
       "      <th>l</th>\n",
       "      <th>d</th>\n",
       "      <th>i</th>\n",
       "      <th>e</th>\n",
       "      <th>...</th>\n",
       "      <th>lOCode</th>\n",
       "      <th>lOComment</th>\n",
       "      <th>lOBlank</th>\n",
       "      <th>locCodeAndComment</th>\n",
       "      <th>uniq_Op</th>\n",
       "      <th>uniq_Opnd</th>\n",
       "      <th>total_Op</th>\n",
       "      <th>total_Opnd</th>\n",
       "      <th>branchCount</th>\n",
       "      <th>defects</th>\n",
       "    </tr>\n",
       "  </thead>\n",
       "  <tbody>\n",
       "    <tr>\n",
       "      <th>0</th>\n",
       "      <td>1.1</td>\n",
       "      <td>1.4</td>\n",
       "      <td>1.4</td>\n",
       "      <td>1.4</td>\n",
       "      <td>1.3</td>\n",
       "      <td>1.30</td>\n",
       "      <td>1.30</td>\n",
       "      <td>1.30</td>\n",
       "      <td>1.30</td>\n",
       "      <td>1.30</td>\n",
       "      <td>...</td>\n",
       "      <td>2</td>\n",
       "      <td>2</td>\n",
       "      <td>2</td>\n",
       "      <td>2</td>\n",
       "      <td>1.2</td>\n",
       "      <td>1.2</td>\n",
       "      <td>1.2</td>\n",
       "      <td>1.2</td>\n",
       "      <td>1.4</td>\n",
       "      <td>False</td>\n",
       "    </tr>\n",
       "    <tr>\n",
       "      <th>1</th>\n",
       "      <td>1.0</td>\n",
       "      <td>1.0</td>\n",
       "      <td>1.0</td>\n",
       "      <td>1.0</td>\n",
       "      <td>1.0</td>\n",
       "      <td>1.00</td>\n",
       "      <td>1.00</td>\n",
       "      <td>1.00</td>\n",
       "      <td>1.00</td>\n",
       "      <td>1.00</td>\n",
       "      <td>...</td>\n",
       "      <td>1</td>\n",
       "      <td>1</td>\n",
       "      <td>1</td>\n",
       "      <td>1</td>\n",
       "      <td>1.0</td>\n",
       "      <td>1.0</td>\n",
       "      <td>1.0</td>\n",
       "      <td>1.0</td>\n",
       "      <td>1.0</td>\n",
       "      <td>True</td>\n",
       "    </tr>\n",
       "    <tr>\n",
       "      <th>2</th>\n",
       "      <td>24.0</td>\n",
       "      <td>5.0</td>\n",
       "      <td>1.0</td>\n",
       "      <td>3.0</td>\n",
       "      <td>63.0</td>\n",
       "      <td>309.13</td>\n",
       "      <td>0.11</td>\n",
       "      <td>9.50</td>\n",
       "      <td>32.54</td>\n",
       "      <td>2936.77</td>\n",
       "      <td>...</td>\n",
       "      <td>1</td>\n",
       "      <td>0</td>\n",
       "      <td>6</td>\n",
       "      <td>0</td>\n",
       "      <td>15.0</td>\n",
       "      <td>15.0</td>\n",
       "      <td>44.0</td>\n",
       "      <td>19.0</td>\n",
       "      <td>9.0</td>\n",
       "      <td>False</td>\n",
       "    </tr>\n",
       "    <tr>\n",
       "      <th>3</th>\n",
       "      <td>20.0</td>\n",
       "      <td>4.0</td>\n",
       "      <td>4.0</td>\n",
       "      <td>2.0</td>\n",
       "      <td>47.0</td>\n",
       "      <td>215.49</td>\n",
       "      <td>0.06</td>\n",
       "      <td>16.00</td>\n",
       "      <td>13.47</td>\n",
       "      <td>3447.89</td>\n",
       "      <td>...</td>\n",
       "      <td>0</td>\n",
       "      <td>0</td>\n",
       "      <td>3</td>\n",
       "      <td>0</td>\n",
       "      <td>16.0</td>\n",
       "      <td>8.0</td>\n",
       "      <td>31.0</td>\n",
       "      <td>16.0</td>\n",
       "      <td>7.0</td>\n",
       "      <td>False</td>\n",
       "    </tr>\n",
       "    <tr>\n",
       "      <th>4</th>\n",
       "      <td>24.0</td>\n",
       "      <td>6.0</td>\n",
       "      <td>6.0</td>\n",
       "      <td>2.0</td>\n",
       "      <td>72.0</td>\n",
       "      <td>346.13</td>\n",
       "      <td>0.06</td>\n",
       "      <td>17.33</td>\n",
       "      <td>19.97</td>\n",
       "      <td>5999.58</td>\n",
       "      <td>...</td>\n",
       "      <td>0</td>\n",
       "      <td>0</td>\n",
       "      <td>3</td>\n",
       "      <td>0</td>\n",
       "      <td>16.0</td>\n",
       "      <td>12.0</td>\n",
       "      <td>46.0</td>\n",
       "      <td>26.0</td>\n",
       "      <td>11.0</td>\n",
       "      <td>False</td>\n",
       "    </tr>\n",
       "  </tbody>\n",
       "</table>\n",
       "<p>5 rows × 22 columns</p>\n",
       "</div>"
      ],
      "text/plain": [
       "    loc  v(g)  ev(g)  iv(g)     n       v     l      d      i        e  ...  \\\n",
       "0   1.1   1.4    1.4    1.4   1.3    1.30  1.30   1.30   1.30     1.30  ...   \n",
       "1   1.0   1.0    1.0    1.0   1.0    1.00  1.00   1.00   1.00     1.00  ...   \n",
       "2  24.0   5.0    1.0    3.0  63.0  309.13  0.11   9.50  32.54  2936.77  ...   \n",
       "3  20.0   4.0    4.0    2.0  47.0  215.49  0.06  16.00  13.47  3447.89  ...   \n",
       "4  24.0   6.0    6.0    2.0  72.0  346.13  0.06  17.33  19.97  5999.58  ...   \n",
       "\n",
       "   lOCode  lOComment  lOBlank  locCodeAndComment  uniq_Op  uniq_Opnd  \\\n",
       "0       2          2        2                  2      1.2        1.2   \n",
       "1       1          1        1                  1      1.0        1.0   \n",
       "2       1          0        6                  0     15.0       15.0   \n",
       "3       0          0        3                  0     16.0        8.0   \n",
       "4       0          0        3                  0     16.0       12.0   \n",
       "\n",
       "   total_Op  total_Opnd  branchCount  defects  \n",
       "0       1.2         1.2          1.4    False  \n",
       "1       1.0         1.0          1.0     True  \n",
       "2      44.0        19.0          9.0    False  \n",
       "3      31.0        16.0          7.0    False  \n",
       "4      46.0        26.0         11.0    False  \n",
       "\n",
       "[5 rows x 22 columns]"
      ]
     },
     "execution_count": 93,
     "metadata": {},
     "output_type": "execute_result"
    }
   ],
   "source": [
    "df = pd.read_csv(\"C:/Users/Administrator/Desktop/PROJECT-DEFECT_PREDICTION_EXTENSION/DATASET/CM1.csv\")\n",
    "df.head()"
   ]
  },
  {
   "cell_type": "code",
   "execution_count": 95,
   "id": "24d18393-8a95-4c6d-b65d-d3d119b5afae",
   "metadata": {
    "id": "24d18393-8a95-4c6d-b65d-d3d119b5afae",
    "tags": []
   },
   "outputs": [],
   "source": [
    "X = df.drop(['defects'], axis=1)\n",
    "y = df['defects']"
   ]
  },
  {
   "cell_type": "code",
   "execution_count": 97,
   "id": "2f162e43-e561-4993-aa5a-8845a57a2271",
   "metadata": {
    "id": "2f162e43-e561-4993-aa5a-8845a57a2271",
    "tags": []
   },
   "outputs": [],
   "source": [
    "X_train, X_test, y_train, y_test = train_test_split(X, y, test_size=0.3, random_state=42)\n"
   ]
  },
  {
   "cell_type": "code",
   "execution_count": 99,
   "id": "df2518d4-290a-4d48-9f0b-ae523c3d9c39",
   "metadata": {
    "id": "df2518d4-290a-4d48-9f0b-ae523c3d9c39",
    "tags": []
   },
   "outputs": [],
   "source": [
    "ACCURACY, PRECISION, RECALL, AUC, F1 = [], [], [], [], []\n"
   ]
  },
  {
   "cell_type": "markdown",
   "id": "ae9e6568-64a0-4d2c-9e56-be511bb7d48c",
   "metadata": {
    "id": "ae9e6568-64a0-4d2c-9e56-be511bb7d48c",
    "tags": []
   },
   "source": [
    "## Random forest algorithm"
   ]
  },
  {
   "cell_type": "code",
   "execution_count": 102,
   "id": "b362807b-d4eb-452d-9c0c-69dc959d766a",
   "metadata": {
    "id": "b362807b-d4eb-452d-9c0c-69dc959d766a",
    "tags": []
   },
   "outputs": [],
   "source": [
    "clf = RandomForestClassifier(n_estimators=10)\n",
    "clf.fit(X_train, y_train)\n",
    "y_pred = clf.predict(X_test)\n",
    "\n",
    "accuracy = accuracy_score(y_test, y_pred)\n",
    "ACCURACY.append(accuracy)\n",
    "\n",
    "\n",
    "# Calculate precision\n",
    "precision = precision_score(y_test, y_pred)\n",
    "PRECISION.append(precision)\n",
    "\n",
    "# Calculate recall\n",
    "recall = recall_score(y_test, y_pred)\n",
    "RECALL.append(recall)\n",
    "\n",
    "# Calculate f1 score\n",
    "f1 = f1_score(y_test, y_pred)\n",
    "F1.append(f1)\n",
    "\n",
    "auc = roc_auc_score(y_test, clf.predict_proba(X_test)[:, 1])\n",
    "AUC.append(auc)"
   ]
  },
  {
   "cell_type": "code",
   "execution_count": null,
   "id": "ZSQTyKOAdmPX",
   "metadata": {
    "id": "ZSQTyKOAdmPX"
   },
   "outputs": [],
   "source": []
  },
  {
   "cell_type": "markdown",
   "id": "c41fa7bd-fc11-4f9e-90b0-f569d12d1b63",
   "metadata": {
    "id": "c41fa7bd-fc11-4f9e-90b0-f569d12d1b63",
    "tags": []
   },
   "source": [
    "## GaussianNB"
   ]
  },
  {
   "cell_type": "code",
   "execution_count": 106,
   "id": "27c67e2e-65e0-4577-81b1-50c44c825ccb",
   "metadata": {
    "id": "27c67e2e-65e0-4577-81b1-50c44c825ccb",
    "tags": []
   },
   "outputs": [],
   "source": [
    "clf = GaussianNB()\n",
    "clf.fit(X_train, y_train)\n",
    "y_pred = clf.predict(X_test)\n",
    "\n",
    "# Calculate accuracy\n",
    "accuracy = accuracy_score(y_test, y_pred)\n",
    "ACCURACY.append(accuracy)\n",
    "\n",
    "# Calculate precision\n",
    "precision = precision_score(y_test, y_pred)\n",
    "PRECISION.append(precision)\n",
    "\n",
    "# Calculate recall\n",
    "recall = recall_score(y_test, y_pred)\n",
    "RECALL.append(recall)\n",
    "\n",
    "\n",
    "# Calculate f1 score\n",
    "f1 = f1_score(y_test, y_pred)\n",
    "F1.append(f1)\n",
    "\n",
    "# Calculate AUC score\n",
    "auc = roc_auc_score(y_test, clf.predict_proba(X_test)[:, 1])\n",
    "AUC.append(auc)"
   ]
  },
  {
   "cell_type": "markdown",
   "id": "5da15f09-e7fc-4b6e-a0fe-db3931df2f71",
   "metadata": {
    "id": "5da15f09-e7fc-4b6e-a0fe-db3931df2f71",
    "tags": []
   },
   "source": [
    "## AdaBoostClassifier\n"
   ]
  },
  {
   "cell_type": "code",
   "execution_count": 28,
   "id": "156f9228-91e0-4056-b062-a92b68e79ebe",
   "metadata": {
    "id": "156f9228-91e0-4056-b062-a92b68e79ebe"
   },
   "outputs": [],
   "source": [
    "clf = AdaBoostClassifier(n_estimators=100)\n",
    "clf.fit(X_train, y_train)\n",
    "\n",
    "# Make predictions on the testing set\n",
    "y_pred = clf.predict(X_test)\n",
    "# Calculate accuracy\n",
    "accuracy = accuracy_score(y_test, y_pred)\n",
    "ACCURACY.append(accuracy)\n",
    "# print(\"Accuracy:\", accuracy)\n",
    "\n",
    "# Calculate precision\n",
    "precision = precision_score(y_test, y_pred)\n",
    "PRECISION.append(precision)\n",
    "# print(\"Precision:\", precision)\n",
    "\n",
    "# Calculate recall\n",
    "recall = recall_score(y_test, y_pred)\n",
    "RECALL.append(recall)\n",
    "\n",
    "# print(\"Recall:\", recall)\n",
    "\n",
    "# Calculate f1 score\n",
    "f1 = f1_score(y_test, y_pred)\n",
    "F1.append(f1)\n",
    "# print(\"F1 Score:\", f1)\n",
    "\n",
    "# Calculate AUC score\n",
    "auc = roc_auc_score(y_test, clf.predict_proba(X_test)[:, 1])\n",
    "AUC.append(auc)\n"
   ]
  },
  {
   "cell_type": "markdown",
   "id": "a41f90ee-7d7c-4283-ba8d-2b5056d448d8",
   "metadata": {
    "id": "a41f90ee-7d7c-4283-ba8d-2b5056d448d8",
    "jp-MarkdownHeadingCollapsed": true,
    "tags": []
   },
   "source": [
    "## MLPClassifier"
   ]
  },
  {
   "cell_type": "code",
   "execution_count": 29,
   "id": "9de4577a-ee26-4ecb-b3da-0adf8d4afdf5",
   "metadata": {
    "id": "9de4577a-ee26-4ecb-b3da-0adf8d4afdf5"
   },
   "outputs": [],
   "source": [
    "lf = MLPClassifier(random_state=1, max_iter=300)\n",
    "clf.fit(X_train, y_train)\n",
    "\n",
    "# Make predictions on the testing set\n",
    "y_pred = clf.predict(X_test)\n",
    "\n",
    "# print(\"Multi Layer Perceptron\\n\")\n",
    "# Calculate accuracy\n",
    "accuracy = accuracy_score(y_test, y_pred)\n",
    "PRECISION.append(precision)\n",
    "ACCURACY.append(accuracy)\n",
    "# print(\"Accuracy:\", accuracy)\n",
    "\n",
    "# Calculate precision\n",
    "precision = precision_score(y_test, y_pred)\n",
    "# print(\"Precision:\", precision)\n",
    "\n",
    "# Calculate recall\n",
    "recall = recall_score(y_test, y_pred)\n",
    "RECALL.append(recall)\n",
    "\n",
    "# print(\"Recall:\", recall)\n",
    "\n",
    "# Calculate f1 score\n",
    "f1 = f1_score(y_test, y_pred)\n",
    "F1.append(f1)\n",
    "# print(\"F1 Score:\", f1)\n",
    "\n",
    "# Calculate AUC score\n",
    "auc = roc_auc_score(y_test, clf.predict_proba(X_test)[:, 1])\n",
    "AUC.append(auc)"
   ]
  },
  {
   "cell_type": "markdown",
   "id": "801f4790-4dba-403c-880a-571bc83ef00f",
   "metadata": {
    "id": "801f4790-4dba-403c-880a-571bc83ef00f",
    "jp-MarkdownHeadingCollapsed": true,
    "tags": []
   },
   "source": [
    "## Kneighbourclassifier"
   ]
  },
  {
   "cell_type": "code",
   "execution_count": 30,
   "id": "78d51222-8389-4a5f-8b41-85d685d3e6f9",
   "metadata": {
    "id": "78d51222-8389-4a5f-8b41-85d685d3e6f9"
   },
   "outputs": [],
   "source": [
    "\n",
    "clf = KNeighborsClassifier(n_neighbors=5, p=2, metric='minkowski')\n",
    "clf.fit(X_train, y_train)\n",
    "\n",
    "# Make predictions on the testing set\n",
    "y_pred = clf.predict(X_test)\n",
    "\n",
    "# print(\"KNeighbors Classifier\\n\")\n",
    "# Calculate accuracy\n",
    "accuracy = accuracy_score(y_test, y_pred)\n",
    "ACCURACY.append(accuracy)\n",
    "# print(\"Accuracy:\", accuracy)\n",
    "\n",
    "# Calculate precision\n",
    "precision = precision_score(y_test, y_pred)\n",
    "PRECISION.append(precision)\n",
    "# print(\"Precision:\", precision)\n",
    "\n",
    "# Calculate recall\n",
    "recall = recall_score(y_test, y_pred)\n",
    "RECALL.append(recall)\n",
    "# print(\"Recall:\", recall)\n",
    "\n",
    "# Calculate f1 score\n",
    "f1 = f1_score(y_test, y_pred)\n",
    "F1.append(f1)\n",
    "# print(\"F1 Score:\", f1)\n",
    "\n",
    "# Calculate AUC score\n",
    "auc = roc_auc_score(y_test, clf.predict_proba(X_test)[:, 1])\n",
    "AUC.append(auc)\n"
   ]
  },
  {
   "cell_type": "markdown",
   "id": "6bc1ca4e-d351-4f91-8b3f-f26b75a8034b",
   "metadata": {
    "id": "6bc1ca4e-d351-4f91-8b3f-f26b75a8034b",
    "jp-MarkdownHeadingCollapsed": true,
    "tags": []
   },
   "source": [
    "## CNN"
   ]
  },
  {
   "cell_type": "code",
   "execution_count": 31,
   "id": "9ee9a07e-6795-43f4-9882-29311ef1bd7f",
   "metadata": {
    "colab": {
     "base_uri": "https://localhost:8080/"
    },
    "id": "9ee9a07e-6795-43f4-9882-29311ef1bd7f",
    "outputId": "2bdb4ebc-d91c-4c14-e776-3355e405e5ae",
    "scrolled": true
   },
   "outputs": [
    {
     "name": "stdout",
     "output_type": "stream",
     "text": [
      "Epoch 1/100\n",
      "6/6 [==============================] - 1s 5ms/step - loss: 7.6843 - accuracy: 0.4368\n",
      "Epoch 2/100\n",
      "6/6 [==============================] - 0s 4ms/step - loss: 3.0728 - accuracy: 0.7845\n",
      "Epoch 3/100\n",
      "6/6 [==============================] - 0s 4ms/step - loss: 2.3131 - accuracy: 0.8477\n",
      "Epoch 4/100\n",
      "6/6 [==============================] - 0s 3ms/step - loss: 1.6851 - accuracy: 0.8879\n",
      "Epoch 5/100\n",
      "6/6 [==============================] - 0s 4ms/step - loss: 1.4184 - accuracy: 0.9080\n",
      "Epoch 6/100\n",
      "6/6 [==============================] - 0s 3ms/step - loss: 1.5065 - accuracy: 0.9023\n",
      "Epoch 7/100\n",
      "6/6 [==============================] - 0s 4ms/step - loss: 1.5065 - accuracy: 0.9023\n",
      "Epoch 8/100\n",
      "6/6 [==============================] - 0s 3ms/step - loss: 1.4627 - accuracy: 0.9052\n",
      "Epoch 9/100\n",
      "6/6 [==============================] - 0s 5ms/step - loss: 1.4627 - accuracy: 0.9052\n",
      "Epoch 10/100\n",
      "6/6 [==============================] - 0s 4ms/step - loss: 1.5821 - accuracy: 0.8966\n",
      "Epoch 11/100\n",
      "6/6 [==============================] - 0s 5ms/step - loss: 1.4184 - accuracy: 0.9080\n",
      "Epoch 12/100\n",
      "6/6 [==============================] - 0s 3ms/step - loss: 1.4254 - accuracy: 0.9052\n",
      "Epoch 13/100\n",
      "6/6 [==============================] - 0s 4ms/step - loss: 1.4627 - accuracy: 0.9052\n",
      "Epoch 14/100\n",
      "6/6 [==============================] - 0s 4ms/step - loss: 1.5065 - accuracy: 0.9023\n",
      "Epoch 15/100\n",
      "6/6 [==============================] - 0s 4ms/step - loss: 1.5065 - accuracy: 0.9023\n",
      "Epoch 16/100\n",
      "6/6 [==============================] - 0s 4ms/step - loss: 1.5065 - accuracy: 0.9023\n",
      "Epoch 17/100\n",
      "6/6 [==============================] - 0s 4ms/step - loss: 1.4627 - accuracy: 0.9052\n",
      "Epoch 18/100\n",
      "6/6 [==============================] - 0s 3ms/step - loss: 1.4627 - accuracy: 0.9052\n",
      "Epoch 19/100\n",
      "6/6 [==============================] - 0s 3ms/step - loss: 1.4627 - accuracy: 0.9052\n",
      "Epoch 20/100\n",
      "6/6 [==============================] - 0s 4ms/step - loss: 1.5065 - accuracy: 0.9023\n",
      "Epoch 21/100\n",
      "6/6 [==============================] - 0s 4ms/step - loss: 1.5065 - accuracy: 0.9023\n",
      "Epoch 22/100\n",
      "6/6 [==============================] - 0s 4ms/step - loss: 1.4184 - accuracy: 0.9080\n",
      "Epoch 23/100\n",
      "6/6 [==============================] - 0s 3ms/step - loss: 1.4627 - accuracy: 0.9052\n",
      "Epoch 24/100\n",
      "6/6 [==============================] - 0s 5ms/step - loss: 1.4627 - accuracy: 0.9052\n",
      "Epoch 25/100\n",
      "6/6 [==============================] - 0s 4ms/step - loss: 1.4627 - accuracy: 0.9052\n",
      "Epoch 26/100\n",
      "6/6 [==============================] - 0s 4ms/step - loss: 1.5065 - accuracy: 0.9023\n",
      "Epoch 27/100\n",
      "6/6 [==============================] - 0s 4ms/step - loss: 1.4627 - accuracy: 0.9052\n",
      "Epoch 28/100\n",
      "6/6 [==============================] - 0s 4ms/step - loss: 1.4627 - accuracy: 0.9052\n",
      "Epoch 29/100\n",
      "6/6 [==============================] - 0s 4ms/step - loss: 1.4627 - accuracy: 0.9052\n",
      "Epoch 30/100\n",
      "6/6 [==============================] - 0s 4ms/step - loss: 1.4627 - accuracy: 0.9052\n",
      "Epoch 31/100\n",
      "6/6 [==============================] - 0s 4ms/step - loss: 1.4627 - accuracy: 0.9052\n",
      "Epoch 32/100\n",
      "6/6 [==============================] - 0s 4ms/step - loss: 1.4627 - accuracy: 0.9052\n",
      "Epoch 33/100\n",
      "6/6 [==============================] - 0s 4ms/step - loss: 1.4627 - accuracy: 0.9052\n",
      "Epoch 34/100\n",
      "6/6 [==============================] - 0s 4ms/step - loss: 1.4627 - accuracy: 0.9052\n",
      "Epoch 35/100\n",
      "6/6 [==============================] - 0s 4ms/step - loss: 1.4627 - accuracy: 0.9052\n",
      "Epoch 36/100\n",
      "6/6 [==============================] - 0s 4ms/step - loss: 1.4627 - accuracy: 0.9052\n",
      "Epoch 37/100\n",
      "6/6 [==============================] - 0s 4ms/step - loss: 1.4627 - accuracy: 0.9052\n",
      "Epoch 38/100\n",
      "6/6 [==============================] - 0s 4ms/step - loss: 1.5492 - accuracy: 0.8994\n",
      "Epoch 39/100\n",
      "6/6 [==============================] - 0s 4ms/step - loss: 1.4627 - accuracy: 0.9052\n",
      "Epoch 40/100\n",
      "6/6 [==============================] - 0s 5ms/step - loss: 1.4627 - accuracy: 0.9052\n",
      "Epoch 41/100\n",
      "6/6 [==============================] - 0s 5ms/step - loss: 1.4627 - accuracy: 0.9052\n",
      "Epoch 42/100\n",
      "6/6 [==============================] - 0s 4ms/step - loss: 1.4627 - accuracy: 0.9052\n",
      "Epoch 43/100\n",
      "6/6 [==============================] - 0s 4ms/step - loss: 1.4627 - accuracy: 0.9052\n",
      "Epoch 44/100\n",
      "6/6 [==============================] - 0s 3ms/step - loss: 1.4627 - accuracy: 0.9052\n",
      "Epoch 45/100\n",
      "6/6 [==============================] - 0s 4ms/step - loss: 1.4627 - accuracy: 0.9052\n",
      "Epoch 46/100\n",
      "6/6 [==============================] - 0s 3ms/step - loss: 1.4627 - accuracy: 0.9052\n",
      "Epoch 47/100\n",
      "6/6 [==============================] - 0s 4ms/step - loss: 1.4627 - accuracy: 0.9052\n",
      "Epoch 48/100\n",
      "6/6 [==============================] - 0s 4ms/step - loss: 1.4627 - accuracy: 0.9052\n",
      "Epoch 49/100\n",
      "6/6 [==============================] - 0s 3ms/step - loss: 1.5065 - accuracy: 0.9023\n",
      "Epoch 50/100\n",
      "6/6 [==============================] - 0s 4ms/step - loss: 1.5065 - accuracy: 0.9023\n",
      "Epoch 51/100\n",
      "6/6 [==============================] - 0s 4ms/step - loss: 1.4627 - accuracy: 0.9052\n",
      "Epoch 52/100\n",
      "6/6 [==============================] - 0s 4ms/step - loss: 1.4627 - accuracy: 0.9052\n",
      "Epoch 53/100\n",
      "6/6 [==============================] - 0s 4ms/step - loss: 1.4627 - accuracy: 0.9052\n",
      "Epoch 54/100\n",
      "6/6 [==============================] - 0s 3ms/step - loss: 1.4627 - accuracy: 0.9052\n",
      "Epoch 55/100\n",
      "6/6 [==============================] - 0s 3ms/step - loss: 1.4627 - accuracy: 0.9052\n",
      "Epoch 56/100\n",
      "6/6 [==============================] - 0s 4ms/step - loss: 1.4627 - accuracy: 0.9052\n",
      "Epoch 57/100\n",
      "6/6 [==============================] - 0s 3ms/step - loss: 1.4627 - accuracy: 0.9052\n",
      "Epoch 58/100\n",
      "6/6 [==============================] - 0s 4ms/step - loss: 1.4627 - accuracy: 0.9052\n",
      "Epoch 59/100\n",
      "6/6 [==============================] - 0s 5ms/step - loss: 1.4627 - accuracy: 0.9052\n",
      "Epoch 60/100\n",
      "6/6 [==============================] - 0s 5ms/step - loss: 1.5065 - accuracy: 0.9023\n",
      "Epoch 61/100\n",
      "6/6 [==============================] - 0s 4ms/step - loss: 1.4627 - accuracy: 0.9052\n",
      "Epoch 62/100\n",
      "6/6 [==============================] - 0s 4ms/step - loss: 1.4627 - accuracy: 0.9052\n",
      "Epoch 63/100\n",
      "6/6 [==============================] - 0s 4ms/step - loss: 1.4184 - accuracy: 0.9080\n",
      "Epoch 64/100\n",
      "6/6 [==============================] - 0s 4ms/step - loss: 1.4627 - accuracy: 0.9052\n",
      "Epoch 65/100\n",
      "6/6 [==============================] - 0s 4ms/step - loss: 1.5503 - accuracy: 0.8994\n",
      "Epoch 66/100\n",
      "6/6 [==============================] - 0s 4ms/step - loss: 1.4627 - accuracy: 0.9052\n",
      "Epoch 67/100\n",
      "6/6 [==============================] - 0s 4ms/step - loss: 1.4627 - accuracy: 0.9052\n",
      "Epoch 68/100\n",
      "6/6 [==============================] - 0s 3ms/step - loss: 1.4627 - accuracy: 0.9052\n",
      "Epoch 69/100\n",
      "6/6 [==============================] - 0s 3ms/step - loss: 1.4627 - accuracy: 0.9052\n",
      "Epoch 70/100\n",
      "6/6 [==============================] - 0s 3ms/step - loss: 1.4627 - accuracy: 0.9052\n",
      "Epoch 71/100\n",
      "6/6 [==============================] - 0s 4ms/step - loss: 1.5065 - accuracy: 0.9023\n",
      "Epoch 72/100\n",
      "6/6 [==============================] - 0s 4ms/step - loss: 1.4627 - accuracy: 0.9052\n",
      "Epoch 73/100\n",
      "6/6 [==============================] - 0s 4ms/step - loss: 1.5065 - accuracy: 0.9023\n",
      "Epoch 74/100\n",
      "6/6 [==============================] - 0s 4ms/step - loss: 1.4627 - accuracy: 0.9052\n",
      "Epoch 75/100\n",
      "6/6 [==============================] - 0s 4ms/step - loss: 1.4873 - accuracy: 0.9023\n",
      "Epoch 76/100\n",
      "6/6 [==============================] - 0s 5ms/step - loss: 1.4627 - accuracy: 0.9052\n",
      "Epoch 77/100\n",
      "6/6 [==============================] - 0s 4ms/step - loss: 1.4627 - accuracy: 0.9052\n",
      "Epoch 78/100\n",
      "6/6 [==============================] - 0s 4ms/step - loss: 1.4627 - accuracy: 0.9052\n",
      "Epoch 79/100\n",
      "6/6 [==============================] - 0s 4ms/step - loss: 1.4627 - accuracy: 0.9052\n",
      "Epoch 80/100\n",
      "6/6 [==============================] - 0s 5ms/step - loss: 1.4627 - accuracy: 0.9052\n",
      "Epoch 81/100\n",
      "6/6 [==============================] - 0s 4ms/step - loss: 1.4627 - accuracy: 0.9052\n",
      "Epoch 82/100\n",
      "6/6 [==============================] - 0s 4ms/step - loss: 1.4627 - accuracy: 0.9052\n",
      "Epoch 83/100\n",
      "6/6 [==============================] - 0s 3ms/step - loss: 1.4627 - accuracy: 0.9052\n",
      "Epoch 84/100\n",
      "6/6 [==============================] - 0s 3ms/step - loss: 1.4627 - accuracy: 0.9052\n",
      "Epoch 85/100\n",
      "6/6 [==============================] - 0s 4ms/step - loss: 1.4627 - accuracy: 0.9052\n",
      "Epoch 86/100\n",
      "6/6 [==============================] - 0s 4ms/step - loss: 1.4627 - accuracy: 0.9052\n",
      "Epoch 87/100\n",
      "6/6 [==============================] - 0s 5ms/step - loss: 1.4627 - accuracy: 0.9052\n",
      "Epoch 88/100\n",
      "6/6 [==============================] - 0s 3ms/step - loss: 1.4627 - accuracy: 0.9052\n",
      "Epoch 89/100\n",
      "6/6 [==============================] - 0s 3ms/step - loss: 1.4627 - accuracy: 0.9052\n",
      "Epoch 90/100\n",
      "6/6 [==============================] - 0s 4ms/step - loss: 1.4627 - accuracy: 0.9052\n",
      "Epoch 91/100\n",
      "6/6 [==============================] - 0s 6ms/step - loss: 1.4627 - accuracy: 0.9052\n",
      "Epoch 92/100\n",
      "6/6 [==============================] - 0s 5ms/step - loss: 1.4627 - accuracy: 0.9052\n",
      "Epoch 93/100\n",
      "6/6 [==============================] - 0s 5ms/step - loss: 1.4627 - accuracy: 0.9052\n",
      "Epoch 94/100\n",
      "6/6 [==============================] - 0s 6ms/step - loss: 1.4627 - accuracy: 0.9052\n",
      "Epoch 95/100\n",
      "6/6 [==============================] - 0s 4ms/step - loss: 1.4627 - accuracy: 0.9052\n",
      "Epoch 96/100\n",
      "6/6 [==============================] - 0s 5ms/step - loss: 1.4627 - accuracy: 0.9052\n",
      "Epoch 97/100\n",
      "6/6 [==============================] - 0s 4ms/step - loss: 1.4627 - accuracy: 0.9052\n",
      "Epoch 98/100\n",
      "6/6 [==============================] - 0s 7ms/step - loss: 1.4627 - accuracy: 0.9052\n",
      "Epoch 99/100\n",
      "6/6 [==============================] - 0s 6ms/step - loss: 1.4627 - accuracy: 0.9052\n",
      "Epoch 100/100\n",
      "6/6 [==============================] - 0s 4ms/step - loss: 1.4627 - accuracy: 0.9052\n"
     ]
    }
   ],
   "source": [
    "from keras.models import Sequential\n",
    "from keras.layers import Dense, Dropout, Flatten, Reshape, GlobalAveragePooling1D\n",
    "from keras.layers import Conv2D, MaxPooling2D, Conv1D, MaxPooling1D\n",
    "\n",
    "input_shape = X_train.shape[1]\n",
    "\n",
    "model_m = Sequential()\n",
    "model_m.add(Reshape((input_shape, 1), input_shape=(input_shape,)))\n",
    "model_m.add(Conv1D(100, input_shape, activation='relu'))\n",
    "\n",
    "# model_m.add(Conv1D(100, 11, activation='relu'))\n",
    "# model_m.add(MaxPooling1D(1))\n",
    "# model_m.add(Conv1D(160, 3, activation='relu'))\n",
    "# model_m.add(Conv1D(160, 3, activation='relu'))\n",
    "model_m.add(GlobalAveragePooling1D())\n",
    "model_m.add(Dropout(0.5))\n",
    "model_m.add(Dense(1, activation='tanh'))\n",
    "##print(model_m.summary())\n",
    "model_m.compile(loss='binary_crossentropy',\n",
    "                optimizer='adam', metrics=['accuracy'])\n",
    "\n",
    "y_train.astype('float64')\n",
    "EPOCHS = 100\n",
    "BATCH_SIZE = 64\n",
    "history = model_m.fit(X_train,\n",
    "                      y_train.astype('float64'),\n",
    "                      batch_size=BATCH_SIZE,\n",
    "                      epochs=EPOCHS,\n",
    "                      verbose=1)\n",
    "\n",
    "# print(model_m.summary())\n",
    "\n",
    "accuracies = history.history['accuracy']\n",
    "\n",
    "# Compute the average accuracy across all epochs\n",
    "avg_accuracy = sum(accuracies) / len(accuracies)"
   ]
  },
  {
   "cell_type": "code",
   "execution_count": 32,
   "id": "c56826ab-7501-42ef-a945-5efd55de6308",
   "metadata": {
    "colab": {
     "base_uri": "https://localhost:8080/"
    },
    "id": "c56826ab-7501-42ef-a945-5efd55de6308",
    "outputId": "bfc10af7-c823-4d91-97e8-c5af10cb3ec4"
   },
   "outputs": [
    {
     "name": "stdout",
     "output_type": "stream",
     "text": [
      "0.6958488805970149 [0.6977611940298507, 0.7208488805970149, 0.7383395522388059, 0.7406716417910447, 0.5816231343283582]\n"
     ]
    }
   ],
   "source": [
    "avg_precision = sum(PRECISION) / len(PRECISION)\n",
    "avg_recall = sum(RECALL) / len(RECALL)\n",
    "avg_f1 = sum(F1) / len(F1)\n",
    "avg_auc = sum(AUC) / len(AUC)\n",
    "print(avg_auc, AUC)\n",
    "ACCURACY.append(avg_accuracy)\n",
    "PRECISION.append(avg_precision)\n",
    "RECALL.append(avg_recall)\n",
    "F1.append(avg_f1)\n",
    "AUC.append(avg_auc)"
   ]
  },
  {
   "cell_type": "code",
   "execution_count": 33,
   "id": "959d850e-ae35-4ee0-a396-3e3339a1d29b",
   "metadata": {
    "id": "959d850e-ae35-4ee0-a396-3e3339a1d29b"
   },
   "outputs": [],
   "source": [
    "output_loc = ''\n",
    "\n",
    "rows = {'Algorithm': ['Random\\nForest', ' Gaussian NB', ' Adaboost', ' MLP', ' KNN', ' CNN'],\n",
    "        'Accuracy': ACCURACY,\n",
    "        'Precision': PRECISION,\n",
    "        'Recall': RECALL,\n",
    "        'F1': F1,\n",
    "        'AUC': AUC}\n"
   ]
  },
  {
   "cell_type": "code",
   "execution_count": 34,
   "id": "38f65cd7-0c7b-4d9e-83dd-22c9e96b6542",
   "metadata": {
    "colab": {
     "base_uri": "https://localhost:8080/"
    },
    "id": "38f65cd7-0c7b-4d9e-83dd-22c9e96b6542",
    "outputId": "4422132d-4e80-46a5-aa97-e5a11e0df0ff"
   },
   "outputs": [
    {
     "name": "stdout",
     "output_type": "stream",
     "text": [
      "Random Forest: 0.8666666666666667 ,0.0, 0.0, 0.0, 0.6977611940298507\n",
      " Gaussian NB: 0.8533333333333334 ,0.2, 0.125, 0.15384615384615385, 0.7208488805970149\n",
      " Adaboost: 0.8733333333333333 ,0.2, 0.0625, 0.09523809523809523, 0.7383395522388059\n",
      " MLP: 0.8733333333333333 ,0.2, 0.0625, 0.09523809523809523, 0.7406716417910447\n",
      " KNN: 0.8733333333333333 ,0.0, 0.0, 0.0, 0.5816231343283582\n",
      " CNN: 0.8980459734797478 ,0.12000000000000002, 0.05, 0.06886446886446887, 0.6958488805970149\n"
     ]
    }
   ],
   "source": [
    "algorithms  = ['Random Forest', ' Gaussian NB', ' Adaboost', ' MLP', ' KNN', ' CNN']\n",
    "count = 0\n",
    "for algo in algorithms:\n",
    "    print(f'{algo}: {ACCURACY[count]} ,{PRECISION[count]}, {RECALL[count]}, {F1[count]}, {AUC[count]}')\n",
    "    count+=1\n"
   ]
  },
  {
   "cell_type": "markdown",
   "id": "2cd8ba8a-eed0-4172-8ac2-0a954963b2ec",
   "metadata": {
    "id": "2cd8ba8a-eed0-4172-8ac2-0a954963b2ec"
   },
   "source": [
    "## poor and rich algorithm"
   ]
  },
  {
   "cell_type": "code",
   "execution_count": 109,
   "id": "693997ff-be8e-46a2-8899-bf0c07c7b682",
   "metadata": {
    "colab": {
     "base_uri": "https://localhost:8080/"
    },
    "id": "693997ff-be8e-46a2-8899-bf0c07c7b682",
    "outputId": "8066730b-f88a-48d0-f7a4-988cec5cb497",
    "tags": []
   },
   "outputs": [
    {
     "name": "stdout",
     "output_type": "stream",
     "text": [
      "(498, 21)\n",
      "Selected features shape: (498, 19)\n",
      "Selected feature names: Index(['loc', 'v(g)', 'ev(g)', 'iv(g)', 'n', 'v', 'l', 'd', 'i', 'e', 'b', 't',\n",
      "       'lOComment', 'lOBlank', 'uniq_Op', 'uniq_Opnd', 'total_Op',\n",
      "       'total_Opnd', 'branchCount'],\n",
      "      dtype='object')\n"
     ]
    }
   ],
   "source": [
    "import numpy as np\n",
    "import pandas as pd\n",
    "from scipy.stats import f_oneway\n",
    "\n",
    "class PoorRichSelector:\n",
    "    def __init__(self, threshold=0.05):\n",
    "        self.threshold = threshold\n",
    "\n",
    "    def fit(self, X, y, feature_names):\n",
    "        self.selected_features_ = self._poor_rich_selection(X, y)\n",
    "        self.selected_feature_names_ = feature_names[self.selected_features_]\n",
    "        return self\n",
    "\n",
    "    def transform(self, X):\n",
    "        return X[:, self.selected_features_]\n",
    "\n",
    "    def _poor_rich_selection(self, X, y):\n",
    "        selected_features = []\n",
    "        for i in range(X.shape[1]):\n",
    "            poor = X[y == 0, i]\n",
    "            rich = X[y == 1, i]\n",
    "            p_value = self._compute_p_value(poor, rich)\n",
    "            if p_value < self.threshold:\n",
    "                selected_features.append(i)\n",
    "        return np.array(selected_features)\n",
    "\n",
    "    def _compute_p_value(self, poor, rich):\n",
    "        _, p_value = f_oneway(poor, rich)\n",
    "        return p_value\n",
    "\n",
    "def load_data_from_csv(file_path):\n",
    "    data = pd.read_csv(file_path)\n",
    "    X = data.iloc[:, :-1].values  # Features\n",
    "    y = data.iloc[:, -1].values   # Labels\n",
    "    feature_names = data.columns[:-1]  # Feature names\n",
    "    return X, y, feature_names\n",
    "\n",
    "# Example usage:\n",
    "if __name__ == \"__main__\":\n",
    "    # Load data from CSV file\n",
    "    file_path = \"C:/Users/Administrator/Desktop/PROJECT-DEFECT_PREDICTION_EXTENSION/DATASET/CM1.csv\"  # Replace with your CSV file path\n",
    "    X, y, feature_names = load_data_from_csv(file_path)\n",
    "    print(X.shape)\n",
    "\n",
    "    # Initialize and fit the PoorRichSelector\n",
    "    pr_selector = PoorRichSelector(threshold=0.05)\n",
    "    pr_selector.fit(X, y, feature_names)\n",
    "\n",
    "    # Transform the dataset to select relevant features\n",
    "    X_selected = pr_selector.transform(X)\n",
    "    print(\"Selected features shape:\", X_selected.shape)\n",
    "    \n",
    "    # Print the names of the selected features\n",
    "    print(\"Selected feature names:\", pr_selector.selected_feature_names_)\n"
   ]
  },
  {
   "cell_type": "code",
   "execution_count": 111,
   "id": "6SqwByHMdWF5",
   "metadata": {
    "colab": {
     "base_uri": "https://localhost:8080/"
    },
    "id": "6SqwByHMdWF5",
    "outputId": "bd434c89-78f2-45fc-b53d-552086253ee8",
    "tags": []
   },
   "outputs": [
    {
     "name": "stdout",
     "output_type": "stream",
     "text": [
      "[[  1.1   1.4   1.4 ...   1.2   1.2   1.4]\n",
      " [  1.    1.    1.  ...   1.    1.    1. ]\n",
      " [ 24.    5.    1.  ...  44.   19.    9. ]\n",
      " ...\n",
      " [ 82.   11.    3.  ... 285.  190.   21. ]\n",
      " [ 10.    2.    1.  ...  19.   13.    3. ]\n",
      " [ 28.    6.    5.  ...  67.   37.   11. ]]\n"
     ]
    }
   ],
   "source": [
    "X_train, X_test, y_train, y_test = train_test_split(X_selected, y, test_size=0.3, random_state=42)\n",
    "print(X_selected)"
   ]
  },
  {
   "cell_type": "code",
   "execution_count": 113,
   "id": "7xrCJGo5Syx9",
   "metadata": {
    "id": "7xrCJGo5Syx9",
    "tags": []
   },
   "outputs": [],
   "source": [
    "ACCURACY, PRECISION, RECALL, AUC, F1 = [], [], [], [], []\n"
   ]
  },
  {
   "cell_type": "markdown",
   "id": "dfFFwooYSyx9",
   "metadata": {
    "id": "dfFFwooYSyx9",
    "tags": []
   },
   "source": [
    "## Random forest algorithm"
   ]
  },
  {
   "cell_type": "code",
   "execution_count": 49,
   "id": "vg4FSOVqSyx-",
   "metadata": {
    "id": "vg4FSOVqSyx-"
   },
   "outputs": [
    {
     "name": "stdout",
     "output_type": "stream",
     "text": [
      "Accuracy: 0.8733333333333333\n",
      "Precision: 0.2\n",
      "Recall: 0.0625\n",
      "F1 score: 0.09523809523809523\n",
      "AUC score: 0.7301772388059702\n"
     ]
    }
   ],
   "source": [
    "clf = RandomForestClassifier(n_estimators=10)\n",
    "clf.fit(X_train, y_train)\n",
    "y_pred = clf.predict(X_test)\n",
    "accuracy = accuracy_score(y_test, y_pred)\n",
    "# Calculate precision\n",
    "precision = precision_score(y_test, y_pred)\n",
    "# Calculate recall\n",
    "recall = recall_score(y_test, y_pred)\n",
    "# Calculate f1 score\n",
    "f1 = f1_score(y_test, y_pred)\n",
    "auc = roc_auc_score(y_test, clf.predict_proba(X_test)[:, 1])\n",
    "print(\"Accuracy:\", accuracy)\n",
    "print(\"Precision:\",precision)\n",
    "print(\"Recall:\",recall)\n",
    "print(\"F1 score:\",f1)\n",
    "print(\"AUC score:\",auc)"
   ]
  },
  {
   "cell_type": "markdown",
   "id": "epHkXnZXSyx-",
   "metadata": {
    "id": "epHkXnZXSyx-",
    "tags": []
   },
   "source": [
    "## GaussianNB"
   ]
  },
  {
   "cell_type": "code",
   "execution_count": 54,
   "id": "1vF9m3ALSyx-",
   "metadata": {
    "id": "1vF9m3ALSyx-"
   },
   "outputs": [
    {
     "name": "stdout",
     "output_type": "stream",
     "text": [
      "Accuracy: 0.8533333333333334\n",
      "Precision: 0.2\n",
      "Recall: 0.125\n",
      "F1 score: 0.15384615384615385\n",
      "AUC score: 0.726445895522388\n"
     ]
    }
   ],
   "source": [
    "clf = GaussianNB()\n",
    "clf.fit(X_train, y_train)\n",
    "y_pred = clf.predict(X_test)\n",
    "accuracy = accuracy_score(y_test, y_pred)\n",
    "# Calculate precision\n",
    "precision = precision_score(y_test, y_pred)\n",
    "# Calculate recall\n",
    "recall = recall_score(y_test, y_pred)\n",
    "# Calculate f1 score\n",
    "f1 = f1_score(y_test, y_pred)\n",
    "auc = roc_auc_score(y_test, clf.predict_proba(X_test)[:, 1])\n",
    "print(\"Accuracy:\", accuracy)\n",
    "print(\"Precision:\",precision)\n",
    "print(\"Recall:\",recall)\n",
    "print(\"F1 score:\",f1)\n",
    "print(\"AUC score:\",auc)"
   ]
  },
  {
   "cell_type": "markdown",
   "id": "fSe8tNXHSyx-",
   "metadata": {
    "id": "fSe8tNXHSyx-",
    "tags": []
   },
   "source": [
    "## AdaBoostClassifier\n"
   ]
  },
  {
   "cell_type": "code",
   "execution_count": 56,
   "id": "QrDo8KVPSyx-",
   "metadata": {
    "id": "QrDo8KVPSyx-"
   },
   "outputs": [
    {
     "name": "stdout",
     "output_type": "stream",
     "text": [
      "Accuracy: 0.8866666666666667\n",
      "Precision: 0.42857142857142855\n",
      "Recall: 0.1875\n",
      "F1 score: 0.26086956521739124\n",
      "AUC score: 0.7896455223880597\n"
     ]
    }
   ],
   "source": [
    "clf = AdaBoostClassifier(n_estimators=100)\n",
    "clf.fit(X_train, y_train)\n",
    "y_pred = clf.predict(X_test)\n",
    "accuracy = accuracy_score(y_test, y_pred)\n",
    "# Calculate precision\n",
    "precision = precision_score(y_test, y_pred)\n",
    "# Calculate recall\n",
    "recall = recall_score(y_test, y_pred)\n",
    "# Calculate f1 score\n",
    "f1 = f1_score(y_test, y_pred)\n",
    "auc = roc_auc_score(y_test, clf.predict_proba(X_test)[:, 1])\n",
    "print(\"Accuracy:\", accuracy)\n",
    "print(\"Precision:\",precision)\n",
    "print(\"Recall:\",recall)\n",
    "print(\"F1 score:\",f1)\n",
    "print(\"AUC score:\",auc)\n"
   ]
  },
  {
   "cell_type": "markdown",
   "id": "l3iYE6oMSyx-",
   "metadata": {
    "id": "l3iYE6oMSyx-",
    "tags": []
   },
   "source": [
    "## MLPClassifier"
   ]
  },
  {
   "cell_type": "code",
   "execution_count": 60,
   "id": "J0xTVu20Syx-",
   "metadata": {
    "id": "J0xTVu20Syx-"
   },
   "outputs": [
    {
     "name": "stdout",
     "output_type": "stream",
     "text": [
      "Accuracy: 0.25333333333333335\n",
      "Precision: 0.09322033898305085\n",
      "Recall: 0.6875\n",
      "F1 score: 0.16417910447761194\n",
      "AUC score: 0.5811567164179104\n"
     ]
    }
   ],
   "source": [
    "clf = MLPClassifier(random_state=1, max_iter=300)\n",
    "clf.fit(X_train, y_train)\n",
    "y_pred = clf.predict(X_test)\n",
    "accuracy = accuracy_score(y_test, y_pred)\n",
    "# Calculate precision\n",
    "precision = precision_score(y_test, y_pred)\n",
    "# Calculate recall\n",
    "recall = recall_score(y_test, y_pred)\n",
    "# Calculate f1 score\n",
    "f1 = f1_score(y_test, y_pred)\n",
    "auc = roc_auc_score(y_test, clf.predict_proba(X_test)[:, 1])\n",
    "print(\"Accuracy:\", accuracy)\n",
    "print(\"Precision:\",precision)\n",
    "print(\"Recall:\",recall)\n",
    "print(\"F1 score:\",f1)\n",
    "print(\"AUC score:\",auc)"
   ]
  },
  {
   "cell_type": "markdown",
   "id": "xNCEzz6QSyx-",
   "metadata": {
    "id": "xNCEzz6QSyx-",
    "tags": []
   },
   "source": [
    "## Kneighbourclassifier"
   ]
  },
  {
   "cell_type": "code",
   "execution_count": 66,
   "id": "8K3aVbY8Syx_",
   "metadata": {
    "id": "8K3aVbY8Syx_"
   },
   "outputs": [
    {
     "name": "stdout",
     "output_type": "stream",
     "text": [
      "Accuracy: 0.8733333333333333\n",
      "Precision: 0.0\n",
      "Recall: 0.0\n",
      "F1 score: 0.0\n",
      "AUC score: 0.5816231343283582\n"
     ]
    }
   ],
   "source": [
    "\n",
    "clf = KNeighborsClassifier(n_neighbors=5, p=2, metric='minkowski')\n",
    "clf.fit(X_train, y_train)\n",
    "y_pred = clf.predict(X_test)\n",
    "accuracy = accuracy_score(y_test, y_pred)\n",
    "# Calculate precision\n",
    "precision = precision_score(y_test, y_pred)\n",
    "# Calculate recall\n",
    "recall = recall_score(y_test, y_pred)\n",
    "# Calculate f1 score\n",
    "f1 = f1_score(y_test, y_pred)\n",
    "auc = roc_auc_score(y_test, clf.predict_proba(X_test)[:, 1])\n",
    "print(\"Accuracy:\", accuracy)\n",
    "print(\"Precision:\",precision)\n",
    "print(\"Recall:\",recall)\n",
    "print(\"F1 score:\",f1)\n",
    "print(\"AUC score:\",auc)\n"
   ]
  },
  {
   "cell_type": "markdown",
   "id": "1U0LWjIQSyx_",
   "metadata": {
    "id": "1U0LWjIQSyx_",
    "tags": []
   },
   "source": [
    "## CNN"
   ]
  },
  {
   "cell_type": "code",
   "execution_count": 68,
   "id": "Q9te8ORlSyx_",
   "metadata": {
    "colab": {
     "base_uri": "https://localhost:8080/"
    },
    "id": "Q9te8ORlSyx_",
    "outputId": "7815f809-3183-4eb4-f0fe-2e16f08219fd",
    "scrolled": true
   },
   "outputs": [
    {
     "name": "stderr",
     "output_type": "stream",
     "text": [
      "C:\\Users\\Administrator\\anaconda3\\Lib\\site-packages\\keras\\src\\layers\\reshaping\\reshape.py:39: UserWarning: Do not pass an `input_shape`/`input_dim` argument to a layer. When using Sequential models, prefer using an `Input(shape)` object as the first layer in the model instead.\n",
      "  super().__init__(**kwargs)\n"
     ]
    },
    {
     "name": "stdout",
     "output_type": "stream",
     "text": [
      "Epoch 1/100\n",
      "\u001b[1m6/6\u001b[0m \u001b[32m━━━━━━━━━━━━━━━━━━━━\u001b[0m\u001b[37m\u001b[0m \u001b[1m1s\u001b[0m 3ms/step - accuracy: 0.2032 - loss: 11.3120  \n",
      "Epoch 2/100\n",
      "\u001b[1m6/6\u001b[0m \u001b[32m━━━━━━━━━━━━━━━━━━━━\u001b[0m\u001b[37m\u001b[0m \u001b[1m0s\u001b[0m 2ms/step - accuracy: 0.6883 - loss: 4.5528 \n",
      "Epoch 3/100\n",
      "\u001b[1m6/6\u001b[0m \u001b[32m━━━━━━━━━━━━━━━━━━━━\u001b[0m\u001b[37m\u001b[0m \u001b[1m0s\u001b[0m 2ms/step - accuracy: 0.8119 - loss: 2.9916 \n",
      "Epoch 4/100\n",
      "\u001b[1m6/6\u001b[0m \u001b[32m━━━━━━━━━━━━━━━━━━━━\u001b[0m\u001b[37m\u001b[0m \u001b[1m0s\u001b[0m 2ms/step - accuracy: 0.9068 - loss: 1.4569 \n",
      "Epoch 5/100\n",
      "\u001b[1m6/6\u001b[0m \u001b[32m━━━━━━━━━━━━━━━━━━━━\u001b[0m\u001b[37m\u001b[0m \u001b[1m0s\u001b[0m 2ms/step - accuracy: 0.8954 - loss: 1.6580 \n",
      "Epoch 6/100\n",
      "\u001b[1m6/6\u001b[0m \u001b[32m━━━━━━━━━━━━━━━━━━━━\u001b[0m\u001b[37m\u001b[0m \u001b[1m0s\u001b[0m 2ms/step - accuracy: 0.9060 - loss: 1.5374 \n",
      "Epoch 7/100\n",
      "\u001b[1m6/6\u001b[0m \u001b[32m━━━━━━━━━━━━━━━━━━━━\u001b[0m\u001b[37m\u001b[0m \u001b[1m0s\u001b[0m 2ms/step - accuracy: 0.9154 - loss: 1.3684 \n",
      "Epoch 8/100\n",
      "\u001b[1m6/6\u001b[0m \u001b[32m━━━━━━━━━━━━━━━━━━━━\u001b[0m\u001b[37m\u001b[0m \u001b[1m0s\u001b[0m 3ms/step - accuracy: 0.9192 - loss: 1.3227 \n",
      "Epoch 9/100\n",
      "\u001b[1m6/6\u001b[0m \u001b[32m━━━━━━━━━━━━━━━━━━━━\u001b[0m\u001b[37m\u001b[0m \u001b[1m0s\u001b[0m 2ms/step - accuracy: 0.9105 - loss: 1.4614 \n",
      "Epoch 10/100\n",
      "\u001b[1m6/6\u001b[0m \u001b[32m━━━━━━━━━━━━━━━━━━━━\u001b[0m\u001b[37m\u001b[0m \u001b[1m0s\u001b[0m 2ms/step - accuracy: 0.9096 - loss: 1.4472 \n",
      "Epoch 11/100\n",
      "\u001b[1m6/6\u001b[0m \u001b[32m━━━━━━━━━━━━━━━━━━━━\u001b[0m\u001b[37m\u001b[0m \u001b[1m0s\u001b[0m 2ms/step - accuracy: 0.9112 - loss: 1.4516 \n",
      "Epoch 12/100\n",
      "\u001b[1m6/6\u001b[0m \u001b[32m━━━━━━━━━━━━━━━━━━━━\u001b[0m\u001b[37m\u001b[0m \u001b[1m0s\u001b[0m 2ms/step - accuracy: 0.8904 - loss: 1.7418 \n",
      "Epoch 13/100\n",
      "\u001b[1m6/6\u001b[0m \u001b[32m━━━━━━━━━━━━━━━━━━━━\u001b[0m\u001b[37m\u001b[0m \u001b[1m0s\u001b[0m 2ms/step - accuracy: 0.9037 - loss: 1.5259 \n",
      "Epoch 14/100\n",
      "\u001b[1m6/6\u001b[0m \u001b[32m━━━━━━━━━━━━━━━━━━━━\u001b[0m\u001b[37m\u001b[0m \u001b[1m0s\u001b[0m 2ms/step - accuracy: 0.9123 - loss: 1.4336 \n",
      "Epoch 15/100\n",
      "\u001b[1m6/6\u001b[0m \u001b[32m━━━━━━━━━━━━━━━━━━━━\u001b[0m\u001b[37m\u001b[0m \u001b[1m0s\u001b[0m 2ms/step - accuracy: 0.9125 - loss: 1.4164 \n",
      "Epoch 16/100\n",
      "\u001b[1m6/6\u001b[0m \u001b[32m━━━━━━━━━━━━━━━━━━━━\u001b[0m\u001b[37m\u001b[0m \u001b[1m0s\u001b[0m 2ms/step - accuracy: 0.9197 - loss: 1.2680 \n",
      "Epoch 17/100\n",
      "\u001b[1m6/6\u001b[0m \u001b[32m━━━━━━━━━━━━━━━━━━━━\u001b[0m\u001b[37m\u001b[0m \u001b[1m0s\u001b[0m 2ms/step - accuracy: 0.8946 - loss: 1.6728 \n",
      "Epoch 18/100\n",
      "\u001b[1m6/6\u001b[0m \u001b[32m━━━━━━━━━━━━━━━━━━━━\u001b[0m\u001b[37m\u001b[0m \u001b[1m0s\u001b[0m 2ms/step - accuracy: 0.9099 - loss: 1.4726 \n",
      "Epoch 19/100\n",
      "\u001b[1m6/6\u001b[0m \u001b[32m━━━━━━━━━━━━━━━━━━━━\u001b[0m\u001b[37m\u001b[0m \u001b[1m0s\u001b[0m 2ms/step - accuracy: 0.9177 - loss: 1.3467 \n",
      "Epoch 20/100\n",
      "\u001b[1m6/6\u001b[0m \u001b[32m━━━━━━━━━━━━━━━━━━━━\u001b[0m\u001b[37m\u001b[0m \u001b[1m0s\u001b[0m 2ms/step - accuracy: 0.9005 - loss: 1.5941 \n",
      "Epoch 21/100\n",
      "\u001b[1m6/6\u001b[0m \u001b[32m━━━━━━━━━━━━━━━━━━━━\u001b[0m\u001b[37m\u001b[0m \u001b[1m0s\u001b[0m 2ms/step - accuracy: 0.9133 - loss: 1.3558 \n",
      "Epoch 22/100\n",
      "\u001b[1m6/6\u001b[0m \u001b[32m━━━━━━━━━━━━━━━━━━━━\u001b[0m\u001b[37m\u001b[0m \u001b[1m0s\u001b[0m 2ms/step - accuracy: 0.9077 - loss: 1.4629 \n",
      "Epoch 23/100\n",
      "\u001b[1m6/6\u001b[0m \u001b[32m━━━━━━━━━━━━━━━━━━━━\u001b[0m\u001b[37m\u001b[0m \u001b[1m0s\u001b[0m 2ms/step - accuracy: 0.9085 - loss: 1.4794 \n",
      "Epoch 24/100\n",
      "\u001b[1m6/6\u001b[0m \u001b[32m━━━━━━━━━━━━━━━━━━━━\u001b[0m\u001b[37m\u001b[0m \u001b[1m0s\u001b[0m 2ms/step - accuracy: 0.8908 - loss: 1.7500 \n",
      "Epoch 25/100\n",
      "\u001b[1m6/6\u001b[0m \u001b[32m━━━━━━━━━━━━━━━━━━━━\u001b[0m\u001b[37m\u001b[0m \u001b[1m0s\u001b[0m 3ms/step - accuracy: 0.8982 - loss: 1.6301 \n",
      "Epoch 26/100\n",
      "\u001b[1m6/6\u001b[0m \u001b[32m━━━━━━━━━━━━━━━━━━━━\u001b[0m\u001b[37m\u001b[0m \u001b[1m0s\u001b[0m 2ms/step - accuracy: 0.9089 - loss: 1.4734 \n",
      "Epoch 27/100\n",
      "\u001b[1m6/6\u001b[0m \u001b[32m━━━━━━━━━━━━━━━━━━━━\u001b[0m\u001b[37m\u001b[0m \u001b[1m0s\u001b[0m 2ms/step - accuracy: 0.8900 - loss: 1.7478 \n",
      "Epoch 28/100\n",
      "\u001b[1m6/6\u001b[0m \u001b[32m━━━━━━━━━━━━━━━━━━━━\u001b[0m\u001b[37m\u001b[0m \u001b[1m0s\u001b[0m 3ms/step - accuracy: 0.8957 - loss: 1.6548 \n",
      "Epoch 29/100\n",
      "\u001b[1m6/6\u001b[0m \u001b[32m━━━━━━━━━━━━━━━━━━━━\u001b[0m\u001b[37m\u001b[0m \u001b[1m0s\u001b[0m 2ms/step - accuracy: 0.9212 - loss: 1.3069 \n",
      "Epoch 30/100\n",
      "\u001b[1m6/6\u001b[0m \u001b[32m━━━━━━━━━━━━━━━━━━━━\u001b[0m\u001b[37m\u001b[0m \u001b[1m0s\u001b[0m 2ms/step - accuracy: 0.8950 - loss: 1.6668 \n",
      "Epoch 31/100\n",
      "\u001b[1m6/6\u001b[0m \u001b[32m━━━━━━━━━━━━━━━━━━━━\u001b[0m\u001b[37m\u001b[0m \u001b[1m0s\u001b[0m 2ms/step - accuracy: 0.9078 - loss: 1.5370 \n",
      "Epoch 32/100\n",
      "\u001b[1m6/6\u001b[0m \u001b[32m━━━━━━━━━━━━━━━━━━━━\u001b[0m\u001b[37m\u001b[0m \u001b[1m0s\u001b[0m 2ms/step - accuracy: 0.9078 - loss: 1.5228 \n",
      "Epoch 33/100\n",
      "\u001b[1m6/6\u001b[0m \u001b[32m━━━━━━━━━━━━━━━━━━━━\u001b[0m\u001b[37m\u001b[0m \u001b[1m0s\u001b[0m 2ms/step - accuracy: 0.9077 - loss: 1.4771 \n",
      "Epoch 34/100\n",
      "\u001b[1m6/6\u001b[0m \u001b[32m━━━━━━━━━━━━━━━━━━━━\u001b[0m\u001b[37m\u001b[0m \u001b[1m0s\u001b[0m 2ms/step - accuracy: 0.9170 - loss: 1.3587 \n",
      "Epoch 35/100\n",
      "\u001b[1m6/6\u001b[0m \u001b[32m━━━━━━━━━━━━━━━━━━━━\u001b[0m\u001b[37m\u001b[0m \u001b[1m0s\u001b[0m 3ms/step - accuracy: 0.8992 - loss: 1.6151 \n",
      "Epoch 36/100\n",
      "\u001b[1m6/6\u001b[0m \u001b[32m━━━━━━━━━━━━━━━━━━━━\u001b[0m\u001b[37m\u001b[0m \u001b[1m0s\u001b[0m 2ms/step - accuracy: 0.9167 - loss: 1.3475 \n",
      "Epoch 37/100\n",
      "\u001b[1m6/6\u001b[0m \u001b[32m━━━━━━━━━━━━━━━━━━━━\u001b[0m\u001b[37m\u001b[0m \u001b[1m0s\u001b[0m 2ms/step - accuracy: 0.9149 - loss: 1.3460 \n",
      "Epoch 38/100\n",
      "\u001b[1m6/6\u001b[0m \u001b[32m━━━━━━━━━━━━━━━━━━━━\u001b[0m\u001b[37m\u001b[0m \u001b[1m0s\u001b[0m 2ms/step - accuracy: 0.9226 - loss: 1.2687 \n",
      "Epoch 39/100\n",
      "\u001b[1m6/6\u001b[0m \u001b[32m━━━━━━━━━━━━━━━━━━━━\u001b[0m\u001b[37m\u001b[0m \u001b[1m0s\u001b[0m 2ms/step - accuracy: 0.9080 - loss: 1.4569 \n",
      "Epoch 40/100\n",
      "\u001b[1m6/6\u001b[0m \u001b[32m━━━━━━━━━━━━━━━━━━━━\u001b[0m\u001b[37m\u001b[0m \u001b[1m0s\u001b[0m 2ms/step - accuracy: 0.9097 - loss: 1.4299 \n",
      "Epoch 41/100\n",
      "\u001b[1m6/6\u001b[0m \u001b[32m━━━━━━━━━━━━━━━━━━━━\u001b[0m\u001b[37m\u001b[0m \u001b[1m0s\u001b[0m 2ms/step - accuracy: 0.9009 - loss: 1.5545 \n",
      "Epoch 42/100\n",
      "\u001b[1m6/6\u001b[0m \u001b[32m━━━━━━━━━━━━━━━━━━━━\u001b[0m\u001b[37m\u001b[0m \u001b[1m0s\u001b[0m 2ms/step - accuracy: 0.9116 - loss: 1.4142 \n",
      "Epoch 43/100\n",
      "\u001b[1m6/6\u001b[0m \u001b[32m━━━━━━━━━━━━━━━━━━━━\u001b[0m\u001b[37m\u001b[0m \u001b[1m0s\u001b[0m 2ms/step - accuracy: 0.9068 - loss: 1.5522 \n",
      "Epoch 44/100\n",
      "\u001b[1m6/6\u001b[0m \u001b[32m━━━━━━━━━━━━━━━━━━━━\u001b[0m\u001b[37m\u001b[0m \u001b[1m0s\u001b[0m 2ms/step - accuracy: 0.9025 - loss: 1.5611 \n",
      "Epoch 45/100\n",
      "\u001b[1m6/6\u001b[0m \u001b[32m━━━━━━━━━━━━━━━━━━━━\u001b[0m\u001b[37m\u001b[0m \u001b[1m0s\u001b[0m 2ms/step - accuracy: 0.9252 - loss: 1.1953 \n",
      "Epoch 46/100\n",
      "\u001b[1m6/6\u001b[0m \u001b[32m━━━━━━━━━━━━━━━━━━━━\u001b[0m\u001b[37m\u001b[0m \u001b[1m0s\u001b[0m 3ms/step - accuracy: 0.8950 - loss: 1.7411 \n",
      "Epoch 47/100\n",
      "\u001b[1m6/6\u001b[0m \u001b[32m━━━━━━━━━━━━━━━━━━━━\u001b[0m\u001b[37m\u001b[0m \u001b[1m0s\u001b[0m 2ms/step - accuracy: 0.8969 - loss: 1.6510 \n",
      "Epoch 48/100\n",
      "\u001b[1m6/6\u001b[0m \u001b[32m━━━━━━━━━━━━━━━━━━━━\u001b[0m\u001b[37m\u001b[0m \u001b[1m0s\u001b[0m 2ms/step - accuracy: 0.9132 - loss: 1.4359 \n",
      "Epoch 49/100\n",
      "\u001b[1m6/6\u001b[0m \u001b[32m━━━━━━━━━━━━━━━━━━━━\u001b[0m\u001b[37m\u001b[0m \u001b[1m0s\u001b[0m 2ms/step - accuracy: 0.8943 - loss: 1.7245 \n",
      "Epoch 50/100\n",
      "\u001b[1m6/6\u001b[0m \u001b[32m━━━━━━━━━━━━━━━━━━━━\u001b[0m\u001b[37m\u001b[0m \u001b[1m0s\u001b[0m 2ms/step - accuracy: 0.9020 - loss: 1.5994 \n",
      "Epoch 51/100\n",
      "\u001b[1m6/6\u001b[0m \u001b[32m━━━━━━━━━━━━━━━━━━━━\u001b[0m\u001b[37m\u001b[0m \u001b[1m0s\u001b[0m 3ms/step - accuracy: 0.9011 - loss: 1.5965 \n",
      "Epoch 52/100\n",
      "\u001b[1m6/6\u001b[0m \u001b[32m━━━━━━━━━━━━━━━━━━━━\u001b[0m\u001b[37m\u001b[0m \u001b[1m0s\u001b[0m 2ms/step - accuracy: 0.9008 - loss: 1.5739 \n",
      "Epoch 53/100\n",
      "\u001b[1m6/6\u001b[0m \u001b[32m━━━━━━━━━━━━━━━━━━━━\u001b[0m\u001b[37m\u001b[0m \u001b[1m0s\u001b[0m 2ms/step - accuracy: 0.9130 - loss: 1.4074 \n",
      "Epoch 54/100\n",
      "\u001b[1m6/6\u001b[0m \u001b[32m━━━━━━━━━━━━━━━━━━━━\u001b[0m\u001b[37m\u001b[0m \u001b[1m0s\u001b[0m 3ms/step - accuracy: 0.9070 - loss: 1.4891 \n",
      "Epoch 55/100\n",
      "\u001b[1m6/6\u001b[0m \u001b[32m━━━━━━━━━━━━━━━━━━━━\u001b[0m\u001b[37m\u001b[0m \u001b[1m0s\u001b[0m 2ms/step - accuracy: 0.8966 - loss: 1.6570 \n",
      "Epoch 56/100\n",
      "\u001b[1m6/6\u001b[0m \u001b[32m━━━━━━━━━━━━━━━━━━━━\u001b[0m\u001b[37m\u001b[0m \u001b[1m0s\u001b[0m 2ms/step - accuracy: 0.9180 - loss: 1.3123 \n",
      "Epoch 57/100\n",
      "\u001b[1m6/6\u001b[0m \u001b[32m━━━━━━━━━━━━━━━━━━━━\u001b[0m\u001b[37m\u001b[0m \u001b[1m0s\u001b[0m 2ms/step - accuracy: 0.9190 - loss: 1.3571 \n",
      "Epoch 58/100\n",
      "\u001b[1m6/6\u001b[0m \u001b[32m━━━━━━━━━━━━━━━━━━━━\u001b[0m\u001b[37m\u001b[0m \u001b[1m0s\u001b[0m 2ms/step - accuracy: 0.9107 - loss: 1.4606 \n",
      "Epoch 59/100\n",
      "\u001b[1m6/6\u001b[0m \u001b[32m━━━━━━━━━━━━━━━━━━━━\u001b[0m\u001b[37m\u001b[0m \u001b[1m0s\u001b[0m 2ms/step - accuracy: 0.9040 - loss: 1.5686 \n",
      "Epoch 60/100\n",
      "\u001b[1m6/6\u001b[0m \u001b[32m━━━━━━━━━━━━━━━━━━━━\u001b[0m\u001b[37m\u001b[0m \u001b[1m0s\u001b[0m 2ms/step - accuracy: 0.8936 - loss: 1.7050 \n",
      "Epoch 61/100\n",
      "\u001b[1m6/6\u001b[0m \u001b[32m━━━━━━━━━━━━━━━━━━━━\u001b[0m\u001b[37m\u001b[0m \u001b[1m0s\u001b[0m 3ms/step - accuracy: 0.9226 - loss: 1.2687 \n",
      "Epoch 62/100\n",
      "\u001b[1m6/6\u001b[0m \u001b[32m━━━━━━━━━━━━━━━━━━━━\u001b[0m\u001b[37m\u001b[0m \u001b[1m0s\u001b[0m 2ms/step - accuracy: 0.9107 - loss: 1.4609 \n",
      "Epoch 63/100\n",
      "\u001b[1m6/6\u001b[0m \u001b[32m━━━━━━━━━━━━━━━━━━━━\u001b[0m\u001b[37m\u001b[0m \u001b[1m0s\u001b[0m 2ms/step - accuracy: 0.9108 - loss: 1.4434 \n",
      "Epoch 64/100\n",
      "\u001b[1m6/6\u001b[0m \u001b[32m━━━━━━━━━━━━━━━━━━━━\u001b[0m\u001b[37m\u001b[0m \u001b[1m0s\u001b[0m 2ms/step - accuracy: 0.9073 - loss: 1.5460 \n",
      "Epoch 65/100\n",
      "\u001b[1m6/6\u001b[0m \u001b[32m━━━━━━━━━━━━━━━━━━━━\u001b[0m\u001b[37m\u001b[0m \u001b[1m0s\u001b[0m 2ms/step - accuracy: 0.8954 - loss: 1.6608 \n",
      "Epoch 66/100\n",
      "\u001b[1m6/6\u001b[0m \u001b[32m━━━━━━━━━━━━━━━━━━━━\u001b[0m\u001b[37m\u001b[0m \u001b[1m0s\u001b[0m 2ms/step - accuracy: 0.9053 - loss: 1.5476 \n",
      "Epoch 67/100\n",
      "\u001b[1m6/6\u001b[0m \u001b[32m━━━━━━━━━━━━━━━━━━━━\u001b[0m\u001b[37m\u001b[0m \u001b[1m0s\u001b[0m 2ms/step - accuracy: 0.9186 - loss: 1.2860 \n",
      "Epoch 68/100\n",
      "\u001b[1m6/6\u001b[0m \u001b[32m━━━━━━━━━━━━━━━━━━━━\u001b[0m\u001b[37m\u001b[0m \u001b[1m0s\u001b[0m 2ms/step - accuracy: 0.9004 - loss: 1.6255 \n",
      "Epoch 69/100\n",
      "\u001b[1m6/6\u001b[0m \u001b[32m━━━━━━━━━━━━━━━━━━━━\u001b[0m\u001b[37m\u001b[0m \u001b[1m0s\u001b[0m 2ms/step - accuracy: 0.9008 - loss: 1.5719 \n",
      "Epoch 70/100\n",
      "\u001b[1m6/6\u001b[0m \u001b[32m━━━━━━━━━━━━━━━━━━━━\u001b[0m\u001b[37m\u001b[0m \u001b[1m0s\u001b[0m 2ms/step - accuracy: 0.9167 - loss: 1.3332 \n",
      "Epoch 71/100\n",
      "\u001b[1m6/6\u001b[0m \u001b[32m━━━━━━━━━━━━━━━━━━━━\u001b[0m\u001b[37m\u001b[0m \u001b[1m0s\u001b[0m 2ms/step - accuracy: 0.9078 - loss: 1.4599 \n",
      "Epoch 72/100\n",
      "\u001b[1m6/6\u001b[0m \u001b[32m━━━━━━━━━━━━━━━━━━━━\u001b[0m\u001b[37m\u001b[0m \u001b[1m0s\u001b[0m 2ms/step - accuracy: 0.9065 - loss: 1.5103 \n",
      "Epoch 73/100\n",
      "\u001b[1m6/6\u001b[0m \u001b[32m━━━━━━━━━━━━━━━━━━━━\u001b[0m\u001b[37m\u001b[0m \u001b[1m0s\u001b[0m 2ms/step - accuracy: 0.9085 - loss: 1.4794 \n",
      "Epoch 74/100\n",
      "\u001b[1m6/6\u001b[0m \u001b[32m━━━━━━━━━━━━━━━━━━━━\u001b[0m\u001b[37m\u001b[0m \u001b[1m0s\u001b[0m 2ms/step - accuracy: 0.9007 - loss: 1.5911 \n",
      "Epoch 75/100\n",
      "\u001b[1m6/6\u001b[0m \u001b[32m━━━━━━━━━━━━━━━━━━━━\u001b[0m\u001b[37m\u001b[0m \u001b[1m0s\u001b[0m 3ms/step - accuracy: 0.8985 - loss: 1.6413 \n",
      "Epoch 76/100\n",
      "\u001b[1m6/6\u001b[0m \u001b[32m━━━━━━━━━━━━━━━━━━━━\u001b[0m\u001b[37m\u001b[0m \u001b[1m0s\u001b[0m 4ms/step - accuracy: 0.9058 - loss: 1.5243 \n",
      "Epoch 77/100\n",
      "\u001b[1m6/6\u001b[0m \u001b[32m━━━━━━━━━━━━━━━━━━━━\u001b[0m\u001b[37m\u001b[0m \u001b[1m0s\u001b[0m 2ms/step - accuracy: 0.8937 - loss: 1.6878 \n",
      "Epoch 78/100\n",
      "\u001b[1m6/6\u001b[0m \u001b[32m━━━━━━━━━━━━━━━━━━━━\u001b[0m\u001b[37m\u001b[0m \u001b[1m0s\u001b[0m 2ms/step - accuracy: 0.9066 - loss: 1.4951 \n",
      "Epoch 79/100\n",
      "\u001b[1m6/6\u001b[0m \u001b[32m━━━━━━━━━━━━━━━━━━━━\u001b[0m\u001b[37m\u001b[0m \u001b[1m0s\u001b[0m 2ms/step - accuracy: 0.9068 - loss: 1.5236 \n",
      "Epoch 80/100\n",
      "\u001b[1m6/6\u001b[0m \u001b[32m━━━━━━━━━━━━━━━━━━━━\u001b[0m\u001b[37m\u001b[0m \u001b[1m0s\u001b[0m 2ms/step - accuracy: 0.9080 - loss: 1.4569 \n",
      "Epoch 81/100\n",
      "\u001b[1m6/6\u001b[0m \u001b[32m━━━━━━━━━━━━━━━━━━━━\u001b[0m\u001b[37m\u001b[0m \u001b[1m0s\u001b[0m 2ms/step - accuracy: 0.9128 - loss: 1.4733 \n",
      "Epoch 82/100\n",
      "\u001b[1m6/6\u001b[0m \u001b[32m━━━━━━━━━━━━━━━━━━━━\u001b[0m\u001b[37m\u001b[0m \u001b[1m0s\u001b[0m 2ms/step - accuracy: 0.9074 - loss: 1.4974 \n",
      "Epoch 83/100\n",
      "\u001b[1m6/6\u001b[0m \u001b[32m━━━━━━━━━━━━━━━━━━━━\u001b[0m\u001b[37m\u001b[0m \u001b[1m0s\u001b[0m 2ms/step - accuracy: 0.8984 - loss: 1.6271 \n",
      "Epoch 84/100\n",
      "\u001b[1m6/6\u001b[0m \u001b[32m━━━━━━━━━━━━━━━━━━━━\u001b[0m\u001b[37m\u001b[0m \u001b[1m0s\u001b[0m 2ms/step - accuracy: 0.9082 - loss: 1.4539 \n",
      "Epoch 85/100\n",
      "\u001b[1m6/6\u001b[0m \u001b[32m━━━━━━━━━━━━━━━━━━━━\u001b[0m\u001b[37m\u001b[0m \u001b[1m0s\u001b[0m 2ms/step - accuracy: 0.9005 - loss: 1.5941 \n",
      "Epoch 86/100\n",
      "\u001b[1m6/6\u001b[0m \u001b[32m━━━━━━━━━━━━━━━━━━━━\u001b[0m\u001b[37m\u001b[0m \u001b[1m0s\u001b[0m 2ms/step - accuracy: 0.8977 - loss: 1.6391 \n",
      "Epoch 87/100\n",
      "\u001b[1m6/6\u001b[0m \u001b[32m━━━━━━━━━━━━━━━━━━━━\u001b[0m\u001b[37m\u001b[0m \u001b[1m0s\u001b[0m 3ms/step - accuracy: 0.9110 - loss: 1.4546 \n",
      "Epoch 88/100\n",
      "\u001b[1m6/6\u001b[0m \u001b[32m━━━━━━━━━━━━━━━━━━━━\u001b[0m\u001b[37m\u001b[0m \u001b[1m0s\u001b[0m 3ms/step - accuracy: 0.8984 - loss: 1.6128 \n",
      "Epoch 89/100\n",
      "\u001b[1m6/6\u001b[0m \u001b[32m━━━━━━━━━━━━━━━━━━━━\u001b[0m\u001b[37m\u001b[0m \u001b[1m0s\u001b[0m 2ms/step - accuracy: 0.8997 - loss: 1.6375 \n",
      "Epoch 90/100\n",
      "\u001b[1m6/6\u001b[0m \u001b[32m━━━━━━━━━━━━━━━━━━━━\u001b[0m\u001b[37m\u001b[0m \u001b[1m0s\u001b[0m 2ms/step - accuracy: 0.8984 - loss: 1.6128 \n",
      "Epoch 91/100\n",
      "\u001b[1m6/6\u001b[0m \u001b[32m━━━━━━━━━━━━━━━━━━━━\u001b[0m\u001b[37m\u001b[0m \u001b[1m0s\u001b[0m 2ms/step - accuracy: 0.9126 - loss: 1.4134 \n",
      "Epoch 92/100\n",
      "\u001b[1m6/6\u001b[0m \u001b[32m━━━━━━━━━━━━━━━━━━━━\u001b[0m\u001b[37m\u001b[0m \u001b[1m0s\u001b[0m 2ms/step - accuracy: 0.9082 - loss: 1.4539 \n",
      "Epoch 93/100\n",
      "\u001b[1m6/6\u001b[0m \u001b[32m━━━━━━━━━━━━━━━━━━━━\u001b[0m\u001b[37m\u001b[0m \u001b[1m0s\u001b[0m 3ms/step - accuracy: 0.8922 - loss: 1.7118 \n",
      "Epoch 94/100\n",
      "\u001b[1m6/6\u001b[0m \u001b[32m━━━━━━━━━━━━━━━━━━━━\u001b[0m\u001b[37m\u001b[0m \u001b[1m0s\u001b[0m 2ms/step - accuracy: 0.9014 - loss: 1.6105 \n",
      "Epoch 95/100\n",
      "\u001b[1m6/6\u001b[0m \u001b[32m━━━━━━━━━━━━━━━━━━━━\u001b[0m\u001b[37m\u001b[0m \u001b[1m0s\u001b[0m 2ms/step - accuracy: 0.9055 - loss: 1.5131 \n",
      "Epoch 96/100\n",
      "\u001b[1m6/6\u001b[0m \u001b[32m━━━━━━━━━━━━━━━━━━━━\u001b[0m\u001b[37m\u001b[0m \u001b[1m0s\u001b[0m 2ms/step - accuracy: 0.8955 - loss: 1.6436 \n",
      "Epoch 97/100\n",
      "\u001b[1m6/6\u001b[0m \u001b[32m━━━━━━━━━━━━━━━━━━━━\u001b[0m\u001b[37m\u001b[0m \u001b[1m0s\u001b[0m 2ms/step - accuracy: 0.8938 - loss: 1.6706 \n",
      "Epoch 98/100\n",
      "\u001b[1m6/6\u001b[0m \u001b[32m━━━━━━━━━━━━━━━━━━━━\u001b[0m\u001b[37m\u001b[0m \u001b[1m0s\u001b[0m 3ms/step - accuracy: 0.8981 - loss: 1.6331 \n",
      "Epoch 99/100\n",
      "\u001b[1m6/6\u001b[0m \u001b[32m━━━━━━━━━━━━━━━━━━━━\u001b[0m\u001b[37m\u001b[0m \u001b[1m0s\u001b[0m 3ms/step - accuracy: 0.9223 - loss: 1.2575 \n",
      "Epoch 100/100\n",
      "\u001b[1m6/6\u001b[0m \u001b[32m━━━━━━━━━━━━━━━━━━━━\u001b[0m\u001b[37m\u001b[0m \u001b[1m0s\u001b[0m 2ms/step - accuracy: 0.8946 - loss: 1.6728 \n",
      "Accuracy:  0.8958620655536652\n"
     ]
    }
   ],
   "source": [
    "from keras.models import Sequential\n",
    "from keras.layers import Dense, Dropout, Flatten, Reshape, GlobalAveragePooling1D\n",
    "from keras.layers import Conv2D, MaxPooling2D, Conv1D, MaxPooling1D\n",
    "\n",
    "input_shape = X_train.shape[1]\n",
    "\n",
    "model_m = Sequential()\n",
    "model_m.add(Reshape((input_shape, 1), input_shape=(input_shape,)))\n",
    "model_m.add(Conv1D(100, input_shape, activation='relu'))\n",
    "\n",
    "# model_m.add(Conv1D(100, 11, activation='relu'))\n",
    "# model_m.add(MaxPooling1D(1))\n",
    "# model_m.add(Conv1D(160, 3, activation='relu'))\n",
    "# model_m.add(Conv1D(160, 3, activation='relu'))\n",
    "model_m.add(GlobalAveragePooling1D())\n",
    "model_m.add(Dropout(0.5))\n",
    "model_m.add(Dense(1, activation='tanh'))\n",
    "##print(model_m.summary())\n",
    "model_m.compile(loss='binary_crossentropy',\n",
    "                optimizer='adam', metrics=['accuracy'])\n",
    "\n",
    "y_train.astype('float64')\n",
    "EPOCHS = 100\n",
    "BATCH_SIZE = 64\n",
    "history = model_m.fit(X_train,\n",
    "                      y_train.astype('float64'),\n",
    "                      batch_size=BATCH_SIZE,\n",
    "                      epochs=EPOCHS,\n",
    "                      verbose=1)\n",
    "\n",
    "# print(model_m.summary())\n",
    "\n",
    "accuracies = history.history['accuracy']\n",
    "\n",
    "# Compute the average accuracy across all epochs\n",
    "avg_accuracy = sum(accuracies) / len(accuracies)\n",
    "\n",
    "print(\"Accuracy: \",avg_accuracy)"
   ]
  },
  {
   "cell_type": "code",
   "execution_count": 121,
   "id": "6e1a3aa8-fba7-4033-8e58-52f4e424264d",
   "metadata": {
    "tags": []
   },
   "outputs": [
    {
     "name": "stderr",
     "output_type": "stream",
     "text": [
      "C:\\Users\\Administrator\\anaconda3\\Lib\\site-packages\\keras\\src\\layers\\reshaping\\reshape.py:39: UserWarning: Do not pass an `input_shape`/`input_dim` argument to a layer. When using Sequential models, prefer using an `Input(shape)` object as the first layer in the model instead.\n",
      "  super().__init__(**kwargs)\n"
     ]
    },
    {
     "name": "stdout",
     "output_type": "stream",
     "text": [
      "\u001b[1m5/5\u001b[0m \u001b[32m━━━━━━━━━━━━━━━━━━━━\u001b[0m\u001b[37m\u001b[0m \u001b[1m0s\u001b[0m 12ms/step\n",
      "\u001b[1m5/5\u001b[0m \u001b[32m━━━━━━━━━━━━━━━━━━━━\u001b[0m\u001b[37m\u001b[0m \u001b[1m0s\u001b[0m 1ms/step \n",
      "           Model  Accuracy  Precision  Recall  F1 Score       AUC\n",
      "0  Random Forest  0.866667   0.000000  0.0000  0.000000  0.586987\n",
      "1     GaussianNB  0.853333   0.200000  0.1250  0.153846  0.726446\n",
      "2       AdaBoost  0.873333   0.200000  0.0625  0.095238  0.777052\n",
      "3            MLP  0.860000   0.222222  0.1250  0.160000  0.342351\n",
      "4            KNN  0.873333   0.000000  0.0000  0.000000  0.581623\n",
      "5            CNN  0.893333   0.000000  0.0000  0.000000  0.701259\n"
     ]
    },
    {
     "name": "stderr",
     "output_type": "stream",
     "text": [
      "C:\\Users\\Administrator\\anaconda3\\Lib\\site-packages\\sklearn\\metrics\\_classification.py:1469: UndefinedMetricWarning: Precision is ill-defined and being set to 0.0 due to no predicted samples. Use `zero_division` parameter to control this behavior.\n",
      "  _warn_prf(average, modifier, msg_start, len(result))\n"
     ]
    },
    {
     "data": {
      "image/png": "[encoded data removed]",
      "text/plain": [
       "<Figure size 1000x600 with 1 Axes>"
      ]
     },
     "metadata": {},
     "output_type": "display_data"
    }
   ],
   "source": [
    "import numpy as np\n",
    "import pandas as pd\n",
    "import matplotlib.pyplot as plt\n",
    "from sklearn.ensemble import RandomForestClassifier, AdaBoostClassifier\n",
    "from sklearn.naive_bayes import GaussianNB\n",
    "from sklearn.neural_network import MLPClassifier\n",
    "from sklearn.neighbors import KNeighborsClassifier\n",
    "from sklearn.metrics import accuracy_score, precision_score, recall_score, f1_score, roc_auc_score\n",
    "from keras.models import Sequential\n",
    "from keras.layers import Conv1D, GlobalAveragePooling1D, Dropout, Dense, Reshape\n",
    "from keras.utils import to_categorical\n",
    "\n",
    "# Assuming X_train, X_test, y_train, y_test are already defined\n",
    "\n",
    "# Initialize the list to store results\n",
    "results = []\n",
    "\n",
    "# Random Forest model evaluation\n",
    "clf = RandomForestClassifier(n_estimators=10)\n",
    "clf.fit(X_train, y_train)\n",
    "y_pred = clf.predict(X_test)\n",
    "accuracy = accuracy_score(y_test, y_pred)\n",
    "precision = precision_score(y_test, y_pred) \n",
    "recall = recall_score(y_test, y_pred)\n",
    "f1 = f1_score(y_test, y_pred) \n",
    "auc = roc_auc_score(y_test, clf.predict_proba(X_test)[:, 1])\n",
    "\n",
    "# Append the results to the list\n",
    "results.append(['Random Forest', accuracy, precision, recall, f1, auc])\n",
    "\n",
    "# Repeat similar steps for other models (GaussianNB, AdaBoost, MLP, KNN, CNN)\n",
    "# GaussianNB model evaluation\n",
    "gnb = GaussianNB()\n",
    "gnb.fit(X_train, y_train)\n",
    "y_pred = gnb.predict(X_test)\n",
    "accuracy = accuracy_score(y_test, y_pred) \n",
    "precision = precision_score(y_test, y_pred) \n",
    "recall = recall_score(y_test, y_pred)\n",
    "f1 = f1_score(y_test, y_pred) \n",
    "auc = roc_auc_score(y_test, gnb.predict_proba(X_test)[:, 1]) \n",
    "results.append(['GaussianNB', accuracy, precision, recall, f1, auc])\n",
    "\n",
    "# AdaBoost model evaluation\n",
    "ada = AdaBoostClassifier()\n",
    "ada.fit(X_train, y_train)\n",
    "y_pred = ada.predict(X_test)\n",
    "accuracy = accuracy_score(y_test, y_pred)\n",
    "precision = precision_score(y_test, y_pred)\n",
    "recall = recall_score(y_test, y_pred)\n",
    "f1 = f1_score(y_test, y_pred)\n",
    "auc = roc_auc_score(y_test, ada.predict_proba(X_test)[:, 1]) \n",
    "results.append(['AdaBoost', accuracy, precision, recall, f1, auc])\n",
    "\n",
    "# MLP model evaluation\n",
    "mlp = MLPClassifier(max_iter=300)\n",
    "mlp.fit(X_train, y_train)\n",
    "y_pred = mlp.predict(X_test)\n",
    "accuracy = accuracy_score(y_test, y_pred) \n",
    "precision = precision_score(y_test, y_pred) \n",
    "recall = recall_score(y_test, y_pred)\n",
    "f1 = f1_score(y_test, y_pred) \n",
    "auc = roc_auc_score(y_test, mlp.predict_proba(X_test)[:, 1]) \n",
    "results.append(['MLP', accuracy, precision, recall, f1, auc])\n",
    "\n",
    "# KNN model evaluation\n",
    "X_train_contiguous = np.ascontiguousarray(X_train)\n",
    "X_test_contiguous = np.ascontiguousarray(X_test)\n",
    "# Initialize KNN classifier\n",
    "knn = KNeighborsClassifier(n_neighbors=5, p=2, metric='minkowski')\n",
    "# Fit the classifier\n",
    "knn.fit(X_train_contiguous, y_train)\n",
    "# Make predictions\n",
    "y_pred = knn.predict(X_test_contiguous)\n",
    "accuracy = accuracy_score(y_test, y_pred)\n",
    "precision = precision_score(y_test, y_pred) \n",
    "recall = recall_score(y_test, y_pred)\n",
    "f1 = f1_score(y_test, y_pred) \n",
    "y_prob = knn.predict_proba(X_test_contiguous)\n",
    "auc = roc_auc_score(y_test, y_prob[:, 1])\n",
    "results.append(['KNN', accuracy, precision, recall, f1, auc])\n",
    "\n",
    "# CNN model evaluation\n",
    "input_shape = X_train.shape[1]\n",
    "y_train_cat = to_categorical(y_train)\n",
    "y_test_cat = to_categorical(y_test)\n",
    "\n",
    "model = Sequential()\n",
    "model.add(Reshape((input_shape, 1), input_shape=(input_shape,)))\n",
    "model.add(Conv1D(filters=32, kernel_size=3, activation='relu'))\n",
    "model.add(GlobalAveragePooling1D())\n",
    "model.add(Dropout(0.2))\n",
    "model.add(Dense(units=128, activation='tanh'))\n",
    "model.add(Dense(1, activation='sigmoid'))\n",
    "model.compile(loss='binary_crossentropy', optimizer='adam', metrics=['accuracy'])\n",
    "\n",
    "model.fit(X_train, y_train.astype('float64'), epochs=10, batch_size=64, verbose=0)\n",
    "y_pred = (model.predict(X_test) > 0.5).astype(int)\n",
    "accuracy = accuracy_score(y_test, y_pred) \n",
    "precision = precision_score(y_test, y_pred) \n",
    "recall = recall_score(y_test, y_pred)\n",
    "f1 = f1_score(y_test, y_pred) \n",
    "y_pred_proba = model.predict(X_test)\n",
    "auc = roc_auc_score(y_test, y_pred_proba)\n",
    "results.append(['CNN', accuracy, precision, recall, f1, auc])\n",
    "\n",
    "# Convert the results to a DataFrame\n",
    "metrics_df = pd.DataFrame(results, columns=[\"Model\", \"Accuracy\", \"Precision\", \"Recall\", \"F1 Score\", \"AUC\"])\n",
    "\n",
    "# Print the DataFrame\n",
    "print(metrics_df)\n",
    "\n",
    "# Plot accuracies\n",
    "plt.figure(figsize=(10, 6))\n",
    "plt.plot(metrics_df[\"Model\"], metrics_df[\"Accuracy\"], marker='o')\n",
    "plt.title('Model Accuracies')\n",
    "plt.xlabel('Model')\n",
    "plt.ylabel('Accuracy')\n",
    "plt.grid(True)\n",
    "plt.show()\n"
   ]
  },
  {
   "cell_type": "code",
   "execution_count": 126,
   "id": "d7057f00-c4fd-4a0a-857f-62d4eb4064f6",
   "metadata": {},
   "outputs": [
    {
     "data": {
      "image/png": "[encoded data removed]",
      "text/plain": [
       "<Figure size 1200x800 with 1 Axes>"
      ]
     },
     "metadata": {},
     "output_type": "display_data"
    }
   ],
   "source": [
    "plt.figure(figsize=(12, 8))\n",
    "\n",
    "for metric in ['Accuracy', 'Precision', 'Recall', 'F1 Score', 'AUC']:\n",
    "    plt.plot(metrics_df['Model'], metrics_df[metric], marker='o', label=metric)\n",
    "\n",
    "plt.xlabel('Model')\n",
    "plt.ylabel('Score')\n",
    "plt.title('Performance measures of all models')\n",
    "plt.ylim(0.0, 1.5)\n",
    "plt.legend()\n",
    "plt.grid(True)\n",
    "\n",
    "plt.show()"
   ]
  },
  {
   "cell_type": "markdown",
   "id": "l3oc6kDTUD_k",
   "metadata": {
    "id": "l3oc6kDTUD_k"
   },
   "source": [
    "## Ensemble PRO"
   ]
  },
  {
   "cell_type": "code",
   "execution_count": 29,
   "id": "gCR_UaLyUVJM",
   "metadata": {
    "colab": {
     "base_uri": "https://localhost:8080/"
    },
    "id": "gCR_UaLyUVJM",
    "outputId": "72cf8723-a193-4ffa-8303-b1cc276bd8fd",
    "tags": []
   },
   "outputs": [
    {
     "name": "stdout",
     "output_type": "stream",
     "text": [
      "[[  1.1   1.4   1.4 ...   1.2   1.2   1.4]\n",
      " [  1.    1.    1.  ...   1.    1.    1. ]\n",
      " [ 24.    5.    1.  ...  44.   19.    9. ]\n",
      " ...\n",
      " [ 82.   11.    3.  ... 285.  190.   21. ]\n",
      " [ 10.    2.    1.  ...  19.   13.    3. ]\n",
      " [ 28.    6.    5.  ...  67.   37.   11. ]]\n"
     ]
    }
   ],
   "source": [
    "x_train, x_test, y_train, y_test = train_test_split(X_selected, y, test_size=0.3, random_state=42)\n",
    "print(X_selected)"
   ]
  },
  {
   "cell_type": "markdown",
   "id": "4ef1ffe0-8554-4ec0-b79f-94b76b5555d7",
   "metadata": {},
   "source": [
    "## Poor Rich Ensemble"
   ]
  },
  {
   "cell_type": "code",
   "execution_count": 81,
   "id": "987d97d5-6d6a-45d1-88f3-9eff0fb56126",
   "metadata": {
    "tags": []
   },
   "outputs": [
    {
     "name": "stderr",
     "output_type": "stream",
     "text": [
      "C:\\Users\\Administrator\\anaconda3\\Lib\\site-packages\\keras\\src\\layers\\convolutional\\base_conv.py:99: UserWarning: Do not pass an `input_shape`/`input_dim` argument to a layer. When using Sequential models, prefer using an `Input(shape)` object as the first layer in the model instead.\n",
      "  super().__init__(\n"
     ]
    },
    {
     "name": "stdout",
     "output_type": "stream",
     "text": [
      "Best hyperparameters found by Poor-Rich algorithm: [8, 3, 2, 16]\n",
      "\u001b[1m313/313\u001b[0m \u001b[32m━━━━━━━━━━━━━━━━━━━━\u001b[0m\u001b[37m\u001b[0m \u001b[1m1s\u001b[0m 2ms/step\n",
      "\u001b[1m313/313\u001b[0m \u001b[32m━━━━━━━━━━━━━━━━━━━━\u001b[0m\u001b[37m\u001b[0m \u001b[1m1s\u001b[0m 2ms/step\n",
      "\u001b[1m313/313\u001b[0m \u001b[32m━━━━━━━━━━━━━━━━━━━━\u001b[0m\u001b[37m\u001b[0m \u001b[1m1s\u001b[0m 2ms/step\n",
      "\u001b[1m313/313\u001b[0m \u001b[32m━━━━━━━━━━━━━━━━━━━━\u001b[0m\u001b[37m\u001b[0m \u001b[1m1s\u001b[0m 2ms/step\n",
      "\u001b[1m313/313\u001b[0m \u001b[32m━━━━━━━━━━━━━━━━━━━━\u001b[0m\u001b[37m\u001b[0m \u001b[1m1s\u001b[0m 2ms/step\n",
      "Accuracy of the ensemble model: 0.9687\n"
     ]
    }
   ],
   "source": [
    "import numpy as np\n",
    "from keras.datasets import mnist\n",
    "from keras.models import Sequential\n",
    "from keras.layers import Conv1D, MaxPooling1D, Flatten, Dense\n",
    "from keras.utils import to_categorical\n",
    "from sklearn.metrics import accuracy_score\n",
    "\n",
    "# Load and preprocess data\n",
    "(x_train, y_train), (x_test, y_test) = mnist.load_data()\n",
    "x_train = x_train.reshape((-1, 28, 28)) / 255.0  # Reshape to (samples, time steps, features)\n",
    "x_test = x_test.reshape((-1, 28, 28)) / 255.0\n",
    "y_train = to_categorical(y_train)\n",
    "y_test = to_categorical(y_test)\n",
    "\n",
    "# Define Conv1D architecture\n",
    "def create_model(filters, kernel_size, pool_size, units):\n",
    "    model = Sequential([\n",
    "        Conv1D(filters, kernel_size, activation='relu', input_shape=(28, 28)),\n",
    "        MaxPooling1D(pool_size=pool_size),\n",
    "        Flatten(),\n",
    "        Dense(units, activation='relu'),\n",
    "        Dense(10, activation='softmax')\n",
    "    ])\n",
    "    model.compile(optimizer='adam', loss='categorical_crossentropy', metrics=['accuracy'])\n",
    "    return model\n",
    "\n",
    "# Define Poor-Rich algorithm\n",
    "def poor_rich_cnn(max_iter, n_particles, alpha):\n",
    "    # Define search space\n",
    "    search_space = [(8, 64), (3, 9), (2, 4), (16, 128)]\n",
    "    # Initialize particles\n",
    "    particles = np.random.randint(0, high=1, size=(n_particles, len(search_space)))  # Random initialization\n",
    "    best_positions = particles.copy()\n",
    "    best_scores = np.zeros(n_particles)\n",
    "    global_best_position = None\n",
    "    global_best_score = float('inf')\n",
    "\n",
    "    for _ in range(max_iter):\n",
    "        for i, particle in enumerate(particles):\n",
    "            # Decode particle position\n",
    "            decoded_position = [search_space[j][particle[j]] for j in range(len(search_space))]\n",
    "            # Create CNN model with decoded hyperparameters\n",
    "            model = create_model(*decoded_position)\n",
    "            # Train model\n",
    "            history = model.fit(x_train, y_train, epochs=1, verbose=0)\n",
    "            score = history.history['loss'][0]\n",
    "            # Update particle best position and score\n",
    "            if score < best_scores[i]:\n",
    "                best_scores[i] = score\n",
    "                best_positions[i] = particle.copy()\n",
    "            # Update global best position and score\n",
    "            if score < global_best_score:\n",
    "                global_best_score = score\n",
    "                global_best_position = particle.copy()\n",
    "\n",
    "        # Identify the poorest and richest particles\n",
    "        poorest_particle = particles[np.argmin(best_scores)]\n",
    "        richest_particle = particles[np.argmax(best_scores)]\n",
    "\n",
    "        # Update positions of poor particles towards richest particle\n",
    "        for i in range(n_particles):\n",
    "            if np.array_equal(particles[i], poorest_particle):\n",
    "                continue  # Skip updating the poorest particle\n",
    "            particles[i] += alpha * (richest_particle - particles[i])\n",
    "\n",
    "    # Decode global best position\n",
    "    best_hyperparameters = [search_space[j][global_best_position[j]] for j in range(len(search_space))]\n",
    "    \n",
    "    return best_positions, best_hyperparameters\n",
    "\n",
    "# Combine multiple models to form an ensemble\n",
    "def ensemble_prediction(models, X):\n",
    "    predictions = np.array([model.predict(X) for model in models])\n",
    "    return np.mean(predictions, axis=0)\n",
    "\n",
    "# Example usage\n",
    "best_positions, best_hyperparameters = poor_rich_cnn(max_iter=10, n_particles=5, alpha=0.1)\n",
    "print(\"Best hyperparameters found by Poor-Rich algorithm:\", best_hyperparameters)\n",
    "\n",
    "# Create and train an ensemble of models\n",
    "models = [create_model(*[best_hyperparameters[j] for j in range(len(best_hyperparameters))]) for _ in range(5)]\n",
    "for model in models:\n",
    "    model.fit(x_train, y_train, epochs=5, verbose=0)\n",
    "\n",
    "# Evaluate the ensemble model\n",
    "ensemble_pred = ensemble_prediction(models, x_test)\n",
    "ensemble_accuracy = accuracy_score(np.argmax(y_test, axis=1), np.argmax(ensemble_pred, axis=1))\n",
    "print(\"Accuracy of the ensemble model:\", ensemble_accuracy)\n"
   ]
  },
  {
   "cell_type": "code",
   "execution_count": null,
   "id": "21722516-0543-4323-ba61-aba2a4fc23d7",
   "metadata": {},
   "outputs": [],
   "source": []
  }
 ],
 "metadata": {
  "colab": {
   "provenance": []
  },
  "kernelspec": {
   "display_name": "Python 3 (ipykernel)",
   "language": "python",
   "name": "python3"
  },
  "language_info": {
   "codemirror_mode": {
    "name": "ipython",
    "version": 3
   },
   "file_extension": ".py",
   "mimetype": "text/x-python",
   "name": "python",
   "nbconvert_exporter": "python",
   "pygments_lexer": "ipython3",
   "version": "3.11.5"
  }
 },
 "nbformat": 4,
 "nbformat_minor": 5
}
